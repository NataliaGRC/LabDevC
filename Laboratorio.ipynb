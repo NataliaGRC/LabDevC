{
  "nbformat": 4,
  "nbformat_minor": 0,
  "metadata": {
    "kernelspec": {
      "display_name": "Python 3",
      "language": "python",
      "name": "python3"
    },
    "language_info": {
      "codemirror_mode": {
        "name": "ipython",
        "version": 3
      },
      "file_extension": ".py",
      "mimetype": "text/x-python",
      "name": "python",
      "nbconvert_exporter": "python",
      "pygments_lexer": "ipython3",
      "version": "3.6.7"
    },
    "colab": {
      "name": "Laboratorio.ipynb",
      "provenance": [],
      "collapsed_sections": []
    }
  },
  "cells": [
    {
      "cell_type": "markdown",
      "metadata": {
        "id": "7F--5QBlCX7T",
        "colab_type": "text"
      },
      "source": [
        "# Laboratorio:"
      ]
    },
    {
      "cell_type": "markdown",
      "metadata": {
        "id": "yYQ_CnRQCX9d",
        "colab_type": "text"
      },
      "source": [
        "### Caso de Pre-procesado con DIABETES"
      ]
    },
    {
      "cell_type": "code",
      "metadata": {
        "id": "h5NatYL2CX9g",
        "colab_type": "code",
        "colab": {}
      },
      "source": [
        "import pandas as pd\n",
        "from pandas import read_csv\n",
        "import numpy as np"
      ],
      "execution_count": 0,
      "outputs": []
    },
    {
      "cell_type": "markdown",
      "metadata": {
        "id": "Vik8O7B6CX9p",
        "colab_type": "text"
      },
      "source": [
        "Exportamos el dataset (recordar uso de RAW):"
      ]
    },
    {
      "cell_type": "code",
      "metadata": {
        "id": "p0WYad7sCX9r",
        "colab_type": "code",
        "colab": {}
      },
      "source": [
        "dataset = pd.read_csv('https://raw.githubusercontent.com//pima-indians-diabetes.csv')"
      ],
      "execution_count": 0,
      "outputs": []
    },
    {
      "cell_type": "markdown",
      "metadata": {
        "id": "_1IdP8yFCX90",
        "colab_type": "text"
      },
      "source": [
        "Lo primero, validar el tamaño:"
      ]
    },
    {
      "cell_type": "code",
      "metadata": {
        "id": "HNRXA_-1CX92",
        "colab_type": "code",
        "outputId": "c1006d50-2b0f-4705-d4c4-03620f47da0d",
        "colab": {}
      },
      "source": [
        "dataset.shape"
      ],
      "execution_count": 0,
      "outputs": [
        {
          "output_type": "execute_result",
          "data": {
            "text/plain": [
              "(767, 9)"
            ]
          },
          "metadata": {
            "tags": []
          },
          "execution_count": 67
        }
      ]
    },
    {
      "cell_type": "markdown",
      "metadata": {
        "id": "MEh0pqWTCX9_",
        "colab_type": "text"
      },
      "source": [
        "Visualizar los 20 primeros datos:"
      ]
    },
    {
      "cell_type": "code",
      "metadata": {
        "id": "Tui6WeUKCX-B",
        "colab_type": "code",
        "outputId": "d2122cd3-af2b-42ee-ecbf-cc3ef01f620c",
        "colab": {}
      },
      "source": [
        "print(dataset.head(20))"
      ],
      "execution_count": 0,
      "outputs": [
        {
          "output_type": "stream",
          "text": [
            "     6  148  72  35    0  33.6  0.627  50  1\n",
            "0    1   85  66  29    0  26.6  0.351  31  0\n",
            "1    8  183  64   0    0  23.3  0.672  32  1\n",
            "2    1   89  66  23   94  28.1  0.167  21  0\n",
            "3    0  137  40  35  168  43.1  2.288  33  1\n",
            "4    5  116  74   0    0  25.6  0.201  30  0\n",
            "5    3   78  50  32   88  31.0  0.248  26  1\n",
            "6   10  115   0   0    0  35.3  0.134  29  0\n",
            "7    2  197  70  45  543  30.5  0.158  53  1\n",
            "8    8  125  96   0    0   0.0  0.232  54  1\n",
            "9    4  110  92   0    0  37.6  0.191  30  0\n",
            "10  10  168  74   0    0  38.0  0.537  34  1\n",
            "11  10  139  80   0    0  27.1  1.441  57  0\n",
            "12   1  189  60  23  846  30.1  0.398  59  1\n",
            "13   5  166  72  19  175  25.8  0.587  51  1\n",
            "14   7  100   0   0    0  30.0  0.484  32  1\n",
            "15   0  118  84  47  230  45.8  0.551  31  1\n",
            "16   7  107  74   0    0  29.6  0.254  31  1\n",
            "17   1  103  30  38   83  43.3  0.183  33  0\n",
            "18   1  115  70  30   96  34.6  0.529  32  1\n",
            "19   3  126  88  41  235  39.3  0.704  27  0\n"
          ],
          "name": "stdout"
        }
      ]
    },
    {
      "cell_type": "markdown",
      "metadata": {
        "id": "gRnpSXE_CX-H",
        "colab_type": "text"
      },
      "source": [
        "Visualizar los 20 últimos datos:"
      ]
    },
    {
      "cell_type": "code",
      "metadata": {
        "id": "5-zyfHOKCX-J",
        "colab_type": "code",
        "outputId": "8c4ae20a-e9bc-478e-89bc-413b1ba65f68",
        "colab": {}
      },
      "source": [
        "print(dataset.tail(20))"
      ],
      "execution_count": 0,
      "outputs": [
        {
          "output_type": "stream",
          "text": [
            "      6  148  72  35    0  33.6  0.627  50  1\n",
            "747   3  187  70  22  200  36.4  0.408  36  1\n",
            "748   6  162  62   0    0  24.3  0.178  50  1\n",
            "749   4  136  70   0    0  31.2  1.182  22  1\n",
            "750   1  121  78  39   74  39.0  0.261  28  0\n",
            "751   3  108  62  24    0  26.0  0.223  25  0\n",
            "752   0  181  88  44  510  43.3  0.222  26  1\n",
            "753   8  154  78  32    0  32.4  0.443  45  1\n",
            "754   1  128  88  39  110  36.5  1.057  37  1\n",
            "755   7  137  90  41    0  32.0  0.391  39  0\n",
            "756   0  123  72   0    0  36.3  0.258  52  1\n",
            "757   1  106  76   0    0  37.5  0.197  26  0\n",
            "758   6  190  92   0    0  35.5  0.278  66  1\n",
            "759   2   88  58  26   16  28.4  0.766  22  0\n",
            "760   9  170  74  31    0  44.0  0.403  43  1\n",
            "761   9   89  62   0    0  22.5  0.142  33  0\n",
            "762  10  101  76  48  180  32.9  0.171  63  0\n",
            "763   2  122  70  27    0  36.8  0.340  27  0\n",
            "764   5  121  72  23  112  26.2  0.245  30  0\n",
            "765   1  126  60   0    0  30.1  0.349  47  1\n",
            "766   1   93  70  31    0  30.4  0.315  23  0\n"
          ],
          "name": "stdout"
        }
      ]
    },
    {
      "cell_type": "markdown",
      "metadata": {
        "id": "f2fBkBV9CX-R",
        "colab_type": "text"
      },
      "source": [
        "Resumen estadístico de los datos:"
      ]
    },
    {
      "cell_type": "code",
      "metadata": {
        "id": "fX5O_Yo6CX-T",
        "colab_type": "code",
        "outputId": "0b4fa29b-3806-40fb-824b-a4203db786dc",
        "colab": {}
      },
      "source": [
        "print(dataset.describe())"
      ],
      "execution_count": 0,
      "outputs": [
        {
          "output_type": "stream",
          "text": [
            "                6         148          72          35           0        33.6  \\\n",
            "count  767.000000  767.000000  767.000000  767.000000  767.000000  767.000000   \n",
            "mean     3.842243  120.859192   69.101695   20.517601   79.903520   31.990482   \n",
            "std      3.370877   31.978468   19.368155   15.954059  115.283105    7.889091   \n",
            "min      0.000000    0.000000    0.000000    0.000000    0.000000    0.000000   \n",
            "25%      1.000000   99.000000   62.000000    0.000000    0.000000   27.300000   \n",
            "50%      3.000000  117.000000   72.000000   23.000000   32.000000   32.000000   \n",
            "75%      6.000000  140.000000   80.000000   32.000000  127.500000   36.600000   \n",
            "max     17.000000  199.000000  122.000000   99.000000  846.000000   67.100000   \n",
            "\n",
            "            0.627          50           1  \n",
            "count  767.000000  767.000000  767.000000  \n",
            "mean     0.471674   33.219035    0.348110  \n",
            "std      0.331497   11.752296    0.476682  \n",
            "min      0.078000   21.000000    0.000000  \n",
            "25%      0.243500   24.000000    0.000000  \n",
            "50%      0.371000   29.000000    0.000000  \n",
            "75%      0.625000   41.000000    1.000000  \n",
            "max      2.420000   81.000000    1.000000  \n"
          ],
          "name": "stdout"
        }
      ]
    },
    {
      "cell_type": "markdown",
      "metadata": {
        "id": "sNXNkoWyCX-Z",
        "colab_type": "text"
      },
      "source": [
        "Validar la cantidad de ceros por columnas:"
      ]
    },
    {
      "cell_type": "code",
      "metadata": {
        "id": "5ItVTEHiCX-d",
        "colab_type": "code",
        "outputId": "90dc6ab1-6d44-42cf-94cc-713ccc2b2a3e",
        "colab": {}
      },
      "source": [
        "print((dataset == 0).astype(int).sum())"
      ],
      "execution_count": 0,
      "outputs": [
        {
          "output_type": "stream",
          "text": [
            "6        111\n",
            "148        5\n",
            "72        35\n",
            "35       227\n",
            "0        373\n",
            "33.6      11\n",
            "0.627      0\n",
            "50         0\n",
            "1        500\n",
            "dtype: int64\n"
          ],
          "name": "stdout"
        }
      ]
    },
    {
      "cell_type": "markdown",
      "metadata": {
        "id": "g7LLrrF7CX-k",
        "colab_type": "text"
      },
      "source": [
        "Reemplazar los ceros por NaN:"
      ]
    },
    {
      "cell_type": "code",
      "metadata": {
        "id": "cjxF8KpvCX-m",
        "colab_type": "code",
        "colab": {}
      },
      "source": [
        "dataset[['6','148','72','35','0','33.6']] = dataset[['6','148','72','35','0','33.6']].replace(0,np.NaN)"
      ],
      "execution_count": 0,
      "outputs": []
    },
    {
      "cell_type": "markdown",
      "metadata": {
        "id": "AOCEuPVLCX-u",
        "colab_type": "text"
      },
      "source": [
        "Validar de nuevo que todos los ceros fueron reemplazados por NaN:"
      ]
    },
    {
      "cell_type": "code",
      "metadata": {
        "id": "MQS_LN0MCX-v",
        "colab_type": "code",
        "outputId": "a7c47e6d-e98d-4693-b53b-f5104e1f5104",
        "colab": {}
      },
      "source": [
        "print((dataset == 0).astype(int).sum())"
      ],
      "execution_count": 0,
      "outputs": [
        {
          "output_type": "stream",
          "text": [
            "6          0\n",
            "148        0\n",
            "72         0\n",
            "35         0\n",
            "0          0\n",
            "33.6       0\n",
            "0.627      0\n",
            "50         0\n",
            "1        500\n",
            "dtype: int64\n"
          ],
          "name": "stdout"
        }
      ]
    },
    {
      "cell_type": "code",
      "metadata": {
        "id": "Qix0oF80CX-0",
        "colab_type": "code",
        "outputId": "c035371c-5960-40f8-c069-a98fb59c12a5",
        "colab": {}
      },
      "source": [
        "print(dataset.tail(20))"
      ],
      "execution_count": 0,
      "outputs": [
        {
          "output_type": "stream",
          "text": [
            "        6    148    72    35      0  33.6  0.627  50  1\n",
            "747   3.0  187.0  70.0  22.0  200.0  36.4  0.408  36  1\n",
            "748   6.0  162.0  62.0   NaN    NaN  24.3  0.178  50  1\n",
            "749   4.0  136.0  70.0   NaN    NaN  31.2  1.182  22  1\n",
            "750   1.0  121.0  78.0  39.0   74.0  39.0  0.261  28  0\n",
            "751   3.0  108.0  62.0  24.0    NaN  26.0  0.223  25  0\n",
            "752   NaN  181.0  88.0  44.0  510.0  43.3  0.222  26  1\n",
            "753   8.0  154.0  78.0  32.0    NaN  32.4  0.443  45  1\n",
            "754   1.0  128.0  88.0  39.0  110.0  36.5  1.057  37  1\n",
            "755   7.0  137.0  90.0  41.0    NaN  32.0  0.391  39  0\n",
            "756   NaN  123.0  72.0   NaN    NaN  36.3  0.258  52  1\n",
            "757   1.0  106.0  76.0   NaN    NaN  37.5  0.197  26  0\n",
            "758   6.0  190.0  92.0   NaN    NaN  35.5  0.278  66  1\n",
            "759   2.0   88.0  58.0  26.0   16.0  28.4  0.766  22  0\n",
            "760   9.0  170.0  74.0  31.0    NaN  44.0  0.403  43  1\n",
            "761   9.0   89.0  62.0   NaN    NaN  22.5  0.142  33  0\n",
            "762  10.0  101.0  76.0  48.0  180.0  32.9  0.171  63  0\n",
            "763   2.0  122.0  70.0  27.0    NaN  36.8  0.340  27  0\n",
            "764   5.0  121.0  72.0  23.0  112.0  26.2  0.245  30  0\n",
            "765   1.0  126.0  60.0   NaN    NaN  30.1  0.349  47  1\n",
            "766   1.0   93.0  70.0  31.0    NaN  30.4  0.315  23  0\n"
          ],
          "name": "stdout"
        }
      ]
    },
    {
      "cell_type": "markdown",
      "metadata": {
        "id": "zxyO5S3uCX-7",
        "colab_type": "text"
      },
      "source": [
        "Validar la cantidad de NaN por columnas:"
      ]
    },
    {
      "cell_type": "code",
      "metadata": {
        "id": "QL0vJpW5CX-9",
        "colab_type": "code",
        "outputId": "6be174f5-09f8-4c05-e602-0baf270b2233",
        "colab": {}
      },
      "source": [
        "print(dataset.isnull().sum())"
      ],
      "execution_count": 0,
      "outputs": [
        {
          "output_type": "stream",
          "text": [
            "6        111\n",
            "148        5\n",
            "72        35\n",
            "35       227\n",
            "0        373\n",
            "33.6      11\n",
            "0.627      0\n",
            "50         0\n",
            "1          0\n",
            "dtype: int64\n"
          ],
          "name": "stdout"
        }
      ]
    },
    {
      "cell_type": "markdown",
      "metadata": {
        "id": "ctKJGeTXCX_F",
        "colab_type": "text"
      },
      "source": [
        "Reemplazar los NaN por el valor de la mediana (o media) de la columna:"
      ]
    },
    {
      "cell_type": "code",
      "metadata": {
        "id": "3hVo58apCX_G",
        "colab_type": "code",
        "colab": {}
      },
      "source": [
        "dataset.fillna(dataset.median(), inplace=True)"
      ],
      "execution_count": 0,
      "outputs": []
    },
    {
      "cell_type": "code",
      "metadata": {
        "id": "rBerM0QrCX_P",
        "colab_type": "code",
        "outputId": "3d53261b-3329-41e7-a788-cc204fdc4b16",
        "colab": {}
      },
      "source": [
        "print(dataset.tail(20))"
      ],
      "execution_count": 0,
      "outputs": [
        {
          "output_type": "stream",
          "text": [
            "        6    148    72    35      0  33.6  0.627  50  1\n",
            "747   3.0  187.0  70.0  22.0  200.0  36.4  0.408  36  1\n",
            "748   6.0  162.0  62.0  29.0  125.0  24.3  0.178  50  1\n",
            "749   4.0  136.0  70.0  29.0  125.0  31.2  1.182  22  1\n",
            "750   1.0  121.0  78.0  39.0   74.0  39.0  0.261  28  0\n",
            "751   3.0  108.0  62.0  24.0  125.0  26.0  0.223  25  0\n",
            "752   4.0  181.0  88.0  44.0  510.0  43.3  0.222  26  1\n",
            "753   8.0  154.0  78.0  32.0  125.0  32.4  0.443  45  1\n",
            "754   1.0  128.0  88.0  39.0  110.0  36.5  1.057  37  1\n",
            "755   7.0  137.0  90.0  41.0  125.0  32.0  0.391  39  0\n",
            "756   4.0  123.0  72.0  29.0  125.0  36.3  0.258  52  1\n",
            "757   1.0  106.0  76.0  29.0  125.0  37.5  0.197  26  0\n",
            "758   6.0  190.0  92.0  29.0  125.0  35.5  0.278  66  1\n",
            "759   2.0   88.0  58.0  26.0   16.0  28.4  0.766  22  0\n",
            "760   9.0  170.0  74.0  31.0  125.0  44.0  0.403  43  1\n",
            "761   9.0   89.0  62.0  29.0  125.0  22.5  0.142  33  0\n",
            "762  10.0  101.0  76.0  48.0  180.0  32.9  0.171  63  0\n",
            "763   2.0  122.0  70.0  27.0  125.0  36.8  0.340  27  0\n",
            "764   5.0  121.0  72.0  23.0  112.0  26.2  0.245  30  0\n",
            "765   1.0  126.0  60.0  29.0  125.0  30.1  0.349  47  1\n",
            "766   1.0   93.0  70.0  31.0  125.0  30.4  0.315  23  0\n"
          ],
          "name": "stdout"
        }
      ]
    },
    {
      "cell_type": "markdown",
      "metadata": {
        "id": "An4YSOBECX_U",
        "colab_type": "text"
      },
      "source": [
        "Como se observa, los nombre de las columnas corresponden a números, se puede asumir que dichos valores corresponden a una fila de datos únicamente si los datos los hemos generado nosotros mismos o bien si el especialista del campo de aplicación nos lo ha indicado. **NO SE DEBE DAR POR CIERTO QUE SON DATOS**, algunas columnas en aplicaciones médicas y otras áreas corresponden a códigos numéricos, de existir la duda lo mejor es renombrar los valores por lo que representa la columna a partir de la fuente de los datos:   "
      ]
    },
    {
      "cell_type": "code",
      "metadata": {
        "id": "coEXujfLCX_i",
        "colab_type": "code",
        "colab": {}
      },
      "source": [
        "new_dataset = dataset.rename({'6':'preg'}, axis = 'columns')"
      ],
      "execution_count": 0,
      "outputs": []
    },
    {
      "cell_type": "code",
      "metadata": {
        "id": "d4PdMK33CX_o",
        "colab_type": "code",
        "outputId": "64e13c5a-f436-4b64-cd42-37170a88b3ce",
        "colab": {}
      },
      "source": [
        "new_dataset.head(10)"
      ],
      "execution_count": 0,
      "outputs": [
        {
          "output_type": "execute_result",
          "data": {
            "text/html": [
              "<div>\n",
              "<style scoped>\n",
              "    .dataframe tbody tr th:only-of-type {\n",
              "        vertical-align: middle;\n",
              "    }\n",
              "\n",
              "    .dataframe tbody tr th {\n",
              "        vertical-align: top;\n",
              "    }\n",
              "\n",
              "    .dataframe thead th {\n",
              "        text-align: right;\n",
              "    }\n",
              "</style>\n",
              "<table border=\"1\" class=\"dataframe\">\n",
              "  <thead>\n",
              "    <tr style=\"text-align: right;\">\n",
              "      <th></th>\n",
              "      <th>preg</th>\n",
              "      <th>148</th>\n",
              "      <th>72</th>\n",
              "      <th>35</th>\n",
              "      <th>0</th>\n",
              "      <th>33.6</th>\n",
              "      <th>0.627</th>\n",
              "      <th>50</th>\n",
              "      <th>1</th>\n",
              "    </tr>\n",
              "  </thead>\n",
              "  <tbody>\n",
              "    <tr>\n",
              "      <th>0</th>\n",
              "      <td>1.0</td>\n",
              "      <td>85.0</td>\n",
              "      <td>66.0</td>\n",
              "      <td>29.0</td>\n",
              "      <td>125.0</td>\n",
              "      <td>26.6</td>\n",
              "      <td>0.351</td>\n",
              "      <td>31</td>\n",
              "      <td>0</td>\n",
              "    </tr>\n",
              "    <tr>\n",
              "      <th>1</th>\n",
              "      <td>8.0</td>\n",
              "      <td>183.0</td>\n",
              "      <td>64.0</td>\n",
              "      <td>29.0</td>\n",
              "      <td>125.0</td>\n",
              "      <td>23.3</td>\n",
              "      <td>0.672</td>\n",
              "      <td>32</td>\n",
              "      <td>1</td>\n",
              "    </tr>\n",
              "    <tr>\n",
              "      <th>2</th>\n",
              "      <td>1.0</td>\n",
              "      <td>89.0</td>\n",
              "      <td>66.0</td>\n",
              "      <td>23.0</td>\n",
              "      <td>94.0</td>\n",
              "      <td>28.1</td>\n",
              "      <td>0.167</td>\n",
              "      <td>21</td>\n",
              "      <td>0</td>\n",
              "    </tr>\n",
              "    <tr>\n",
              "      <th>3</th>\n",
              "      <td>4.0</td>\n",
              "      <td>137.0</td>\n",
              "      <td>40.0</td>\n",
              "      <td>35.0</td>\n",
              "      <td>168.0</td>\n",
              "      <td>43.1</td>\n",
              "      <td>2.288</td>\n",
              "      <td>33</td>\n",
              "      <td>1</td>\n",
              "    </tr>\n",
              "    <tr>\n",
              "      <th>4</th>\n",
              "      <td>5.0</td>\n",
              "      <td>116.0</td>\n",
              "      <td>74.0</td>\n",
              "      <td>29.0</td>\n",
              "      <td>125.0</td>\n",
              "      <td>25.6</td>\n",
              "      <td>0.201</td>\n",
              "      <td>30</td>\n",
              "      <td>0</td>\n",
              "    </tr>\n",
              "    <tr>\n",
              "      <th>5</th>\n",
              "      <td>3.0</td>\n",
              "      <td>78.0</td>\n",
              "      <td>50.0</td>\n",
              "      <td>32.0</td>\n",
              "      <td>88.0</td>\n",
              "      <td>31.0</td>\n",
              "      <td>0.248</td>\n",
              "      <td>26</td>\n",
              "      <td>1</td>\n",
              "    </tr>\n",
              "    <tr>\n",
              "      <th>6</th>\n",
              "      <td>10.0</td>\n",
              "      <td>115.0</td>\n",
              "      <td>72.0</td>\n",
              "      <td>29.0</td>\n",
              "      <td>125.0</td>\n",
              "      <td>35.3</td>\n",
              "      <td>0.134</td>\n",
              "      <td>29</td>\n",
              "      <td>0</td>\n",
              "    </tr>\n",
              "    <tr>\n",
              "      <th>7</th>\n",
              "      <td>2.0</td>\n",
              "      <td>197.0</td>\n",
              "      <td>70.0</td>\n",
              "      <td>45.0</td>\n",
              "      <td>543.0</td>\n",
              "      <td>30.5</td>\n",
              "      <td>0.158</td>\n",
              "      <td>53</td>\n",
              "      <td>1</td>\n",
              "    </tr>\n",
              "    <tr>\n",
              "      <th>8</th>\n",
              "      <td>8.0</td>\n",
              "      <td>125.0</td>\n",
              "      <td>96.0</td>\n",
              "      <td>29.0</td>\n",
              "      <td>125.0</td>\n",
              "      <td>32.3</td>\n",
              "      <td>0.232</td>\n",
              "      <td>54</td>\n",
              "      <td>1</td>\n",
              "    </tr>\n",
              "    <tr>\n",
              "      <th>9</th>\n",
              "      <td>4.0</td>\n",
              "      <td>110.0</td>\n",
              "      <td>92.0</td>\n",
              "      <td>29.0</td>\n",
              "      <td>125.0</td>\n",
              "      <td>37.6</td>\n",
              "      <td>0.191</td>\n",
              "      <td>30</td>\n",
              "      <td>0</td>\n",
              "    </tr>\n",
              "  </tbody>\n",
              "</table>\n",
              "</div>"
            ],
            "text/plain": [
              "   preg    148    72    35      0  33.6  0.627  50  1\n",
              "0   1.0   85.0  66.0  29.0  125.0  26.6  0.351  31  0\n",
              "1   8.0  183.0  64.0  29.0  125.0  23.3  0.672  32  1\n",
              "2   1.0   89.0  66.0  23.0   94.0  28.1  0.167  21  0\n",
              "3   4.0  137.0  40.0  35.0  168.0  43.1  2.288  33  1\n",
              "4   5.0  116.0  74.0  29.0  125.0  25.6  0.201  30  0\n",
              "5   3.0   78.0  50.0  32.0   88.0  31.0  0.248  26  1\n",
              "6  10.0  115.0  72.0  29.0  125.0  35.3  0.134  29  0\n",
              "7   2.0  197.0  70.0  45.0  543.0  30.5  0.158  53  1\n",
              "8   8.0  125.0  96.0  29.0  125.0  32.3  0.232  54  1\n",
              "9   4.0  110.0  92.0  29.0  125.0  37.6  0.191  30  0"
            ]
          },
          "metadata": {
            "tags": []
          },
          "execution_count": 82
        }
      ]
    },
    {
      "cell_type": "markdown",
      "metadata": {
        "id": "XwqFXm_ICX_s",
        "colab_type": "text"
      },
      "source": [
        "Otra forma, agregando todos los nombres de la columnas de una vez:"
      ]
    },
    {
      "cell_type": "code",
      "metadata": {
        "id": "N4hYImf4CX_t",
        "colab_type": "code",
        "colab": {}
      },
      "source": [
        "dataset.columns = ['Preg','Gluc','BP','SkinT','Insulin','BMI','DPF','Age','Outcome']"
      ],
      "execution_count": 0,
      "outputs": []
    },
    {
      "cell_type": "code",
      "metadata": {
        "id": "sxJcbwgTCX_y",
        "colab_type": "code",
        "outputId": "2f381850-15f7-4794-c05d-78232708f8e4",
        "colab": {}
      },
      "source": [
        "dataset.head(10)"
      ],
      "execution_count": 0,
      "outputs": [
        {
          "output_type": "execute_result",
          "data": {
            "text/html": [
              "<div>\n",
              "<style scoped>\n",
              "    .dataframe tbody tr th:only-of-type {\n",
              "        vertical-align: middle;\n",
              "    }\n",
              "\n",
              "    .dataframe tbody tr th {\n",
              "        vertical-align: top;\n",
              "    }\n",
              "\n",
              "    .dataframe thead th {\n",
              "        text-align: right;\n",
              "    }\n",
              "</style>\n",
              "<table border=\"1\" class=\"dataframe\">\n",
              "  <thead>\n",
              "    <tr style=\"text-align: right;\">\n",
              "      <th></th>\n",
              "      <th>Preg</th>\n",
              "      <th>Gluc</th>\n",
              "      <th>BP</th>\n",
              "      <th>SkinT</th>\n",
              "      <th>Insulin</th>\n",
              "      <th>BMI</th>\n",
              "      <th>DPF</th>\n",
              "      <th>Age</th>\n",
              "      <th>Outcome</th>\n",
              "    </tr>\n",
              "  </thead>\n",
              "  <tbody>\n",
              "    <tr>\n",
              "      <th>0</th>\n",
              "      <td>1.0</td>\n",
              "      <td>85.0</td>\n",
              "      <td>66.0</td>\n",
              "      <td>29.0</td>\n",
              "      <td>125.0</td>\n",
              "      <td>26.6</td>\n",
              "      <td>0.351</td>\n",
              "      <td>31</td>\n",
              "      <td>0</td>\n",
              "    </tr>\n",
              "    <tr>\n",
              "      <th>1</th>\n",
              "      <td>8.0</td>\n",
              "      <td>183.0</td>\n",
              "      <td>64.0</td>\n",
              "      <td>29.0</td>\n",
              "      <td>125.0</td>\n",
              "      <td>23.3</td>\n",
              "      <td>0.672</td>\n",
              "      <td>32</td>\n",
              "      <td>1</td>\n",
              "    </tr>\n",
              "    <tr>\n",
              "      <th>2</th>\n",
              "      <td>1.0</td>\n",
              "      <td>89.0</td>\n",
              "      <td>66.0</td>\n",
              "      <td>23.0</td>\n",
              "      <td>94.0</td>\n",
              "      <td>28.1</td>\n",
              "      <td>0.167</td>\n",
              "      <td>21</td>\n",
              "      <td>0</td>\n",
              "    </tr>\n",
              "    <tr>\n",
              "      <th>3</th>\n",
              "      <td>4.0</td>\n",
              "      <td>137.0</td>\n",
              "      <td>40.0</td>\n",
              "      <td>35.0</td>\n",
              "      <td>168.0</td>\n",
              "      <td>43.1</td>\n",
              "      <td>2.288</td>\n",
              "      <td>33</td>\n",
              "      <td>1</td>\n",
              "    </tr>\n",
              "    <tr>\n",
              "      <th>4</th>\n",
              "      <td>5.0</td>\n",
              "      <td>116.0</td>\n",
              "      <td>74.0</td>\n",
              "      <td>29.0</td>\n",
              "      <td>125.0</td>\n",
              "      <td>25.6</td>\n",
              "      <td>0.201</td>\n",
              "      <td>30</td>\n",
              "      <td>0</td>\n",
              "    </tr>\n",
              "    <tr>\n",
              "      <th>5</th>\n",
              "      <td>3.0</td>\n",
              "      <td>78.0</td>\n",
              "      <td>50.0</td>\n",
              "      <td>32.0</td>\n",
              "      <td>88.0</td>\n",
              "      <td>31.0</td>\n",
              "      <td>0.248</td>\n",
              "      <td>26</td>\n",
              "      <td>1</td>\n",
              "    </tr>\n",
              "    <tr>\n",
              "      <th>6</th>\n",
              "      <td>10.0</td>\n",
              "      <td>115.0</td>\n",
              "      <td>72.0</td>\n",
              "      <td>29.0</td>\n",
              "      <td>125.0</td>\n",
              "      <td>35.3</td>\n",
              "      <td>0.134</td>\n",
              "      <td>29</td>\n",
              "      <td>0</td>\n",
              "    </tr>\n",
              "    <tr>\n",
              "      <th>7</th>\n",
              "      <td>2.0</td>\n",
              "      <td>197.0</td>\n",
              "      <td>70.0</td>\n",
              "      <td>45.0</td>\n",
              "      <td>543.0</td>\n",
              "      <td>30.5</td>\n",
              "      <td>0.158</td>\n",
              "      <td>53</td>\n",
              "      <td>1</td>\n",
              "    </tr>\n",
              "    <tr>\n",
              "      <th>8</th>\n",
              "      <td>8.0</td>\n",
              "      <td>125.0</td>\n",
              "      <td>96.0</td>\n",
              "      <td>29.0</td>\n",
              "      <td>125.0</td>\n",
              "      <td>32.3</td>\n",
              "      <td>0.232</td>\n",
              "      <td>54</td>\n",
              "      <td>1</td>\n",
              "    </tr>\n",
              "    <tr>\n",
              "      <th>9</th>\n",
              "      <td>4.0</td>\n",
              "      <td>110.0</td>\n",
              "      <td>92.0</td>\n",
              "      <td>29.0</td>\n",
              "      <td>125.0</td>\n",
              "      <td>37.6</td>\n",
              "      <td>0.191</td>\n",
              "      <td>30</td>\n",
              "      <td>0</td>\n",
              "    </tr>\n",
              "  </tbody>\n",
              "</table>\n",
              "</div>"
            ],
            "text/plain": [
              "   Preg   Gluc    BP  SkinT  Insulin   BMI    DPF  Age  Outcome\n",
              "0   1.0   85.0  66.0   29.0    125.0  26.6  0.351   31        0\n",
              "1   8.0  183.0  64.0   29.0    125.0  23.3  0.672   32        1\n",
              "2   1.0   89.0  66.0   23.0     94.0  28.1  0.167   21        0\n",
              "3   4.0  137.0  40.0   35.0    168.0  43.1  2.288   33        1\n",
              "4   5.0  116.0  74.0   29.0    125.0  25.6  0.201   30        0\n",
              "5   3.0   78.0  50.0   32.0     88.0  31.0  0.248   26        1\n",
              "6  10.0  115.0  72.0   29.0    125.0  35.3  0.134   29        0\n",
              "7   2.0  197.0  70.0   45.0    543.0  30.5  0.158   53        1\n",
              "8   8.0  125.0  96.0   29.0    125.0  32.3  0.232   54        1\n",
              "9   4.0  110.0  92.0   29.0    125.0  37.6  0.191   30        0"
            ]
          },
          "metadata": {
            "tags": []
          },
          "execution_count": 89
        }
      ]
    },
    {
      "cell_type": "markdown",
      "metadata": {
        "id": "Xg1hbkTnCX_3",
        "colab_type": "text"
      },
      "source": [
        "### Truco:"
      ]
    },
    {
      "cell_type": "markdown",
      "metadata": {
        "id": "eXVGpqdTCX_7",
        "colab_type": "text"
      },
      "source": [
        "Si tenemos por ejemplo una serie de datos en excel, como la de acá:"
      ]
    },
    {
      "cell_type": "markdown",
      "metadata": {
        "id": "6zd4ShlQCX_8",
        "colab_type": "text"
      },
      "source": [
        "<img src='https://raw.githubusercontent.com/fmezacr/DataScienceTEC/master/Clase2/excel1.png' width='300px'>"
      ]
    },
    {
      "cell_type": "markdown",
      "metadata": {
        "id": "tQI5h4e5CX_9",
        "colab_type": "text"
      },
      "source": [
        "Para llevarlos a un dataframe, simplemente le damos copiar y lo pegamos en el notebook (ahora como dataframe), usando:"
      ]
    },
    {
      "cell_type": "code",
      "metadata": {
        "id": "_vja3RebCX_-",
        "colab_type": "code",
        "colab": {}
      },
      "source": [
        "clip = pd.read_clipboard()"
      ],
      "execution_count": 0,
      "outputs": []
    },
    {
      "cell_type": "code",
      "metadata": {
        "id": "ASC-c06ICYAE",
        "colab_type": "code",
        "outputId": "8666c4a1-f53d-4f6c-de9d-a634f207a1a6",
        "colab": {}
      },
      "source": [
        "clip"
      ],
      "execution_count": 0,
      "outputs": [
        {
          "output_type": "execute_result",
          "data": {
            "text/html": [
              "<div>\n",
              "<style scoped>\n",
              "    .dataframe tbody tr th:only-of-type {\n",
              "        vertical-align: middle;\n",
              "    }\n",
              "\n",
              "    .dataframe tbody tr th {\n",
              "        vertical-align: top;\n",
              "    }\n",
              "\n",
              "    .dataframe thead th {\n",
              "        text-align: right;\n",
              "    }\n",
              "</style>\n",
              "<table border=\"1\" class=\"dataframe\">\n",
              "  <thead>\n",
              "    <tr style=\"text-align: right;\">\n",
              "      <th></th>\n",
              "      <th>a</th>\n",
              "      <th>b</th>\n",
              "    </tr>\n",
              "  </thead>\n",
              "  <tbody>\n",
              "    <tr>\n",
              "      <th>0</th>\n",
              "      <td>1</td>\n",
              "      <td>9</td>\n",
              "    </tr>\n",
              "    <tr>\n",
              "      <th>1</th>\n",
              "      <td>2</td>\n",
              "      <td>8</td>\n",
              "    </tr>\n",
              "    <tr>\n",
              "      <th>2</th>\n",
              "      <td>3</td>\n",
              "      <td>7</td>\n",
              "    </tr>\n",
              "    <tr>\n",
              "      <th>3</th>\n",
              "      <td>4</td>\n",
              "      <td>6</td>\n",
              "    </tr>\n",
              "    <tr>\n",
              "      <th>4</th>\n",
              "      <td>5</td>\n",
              "      <td>5</td>\n",
              "    </tr>\n",
              "    <tr>\n",
              "      <th>5</th>\n",
              "      <td>6</td>\n",
              "      <td>4</td>\n",
              "    </tr>\n",
              "    <tr>\n",
              "      <th>6</th>\n",
              "      <td>7</td>\n",
              "      <td>3</td>\n",
              "    </tr>\n",
              "    <tr>\n",
              "      <th>7</th>\n",
              "      <td>8</td>\n",
              "      <td>2</td>\n",
              "    </tr>\n",
              "    <tr>\n",
              "      <th>8</th>\n",
              "      <td>9</td>\n",
              "      <td>1</td>\n",
              "    </tr>\n",
              "  </tbody>\n",
              "</table>\n",
              "</div>"
            ],
            "text/plain": [
              "   a  b\n",
              "0  1  9\n",
              "1  2  8\n",
              "2  3  7\n",
              "3  4  6\n",
              "4  5  5\n",
              "5  6  4\n",
              "6  7  3\n",
              "7  8  2\n",
              "8  9  1"
            ]
          },
          "metadata": {
            "tags": []
          },
          "execution_count": 91
        }
      ]
    },
    {
      "cell_type": "markdown",
      "metadata": {
        "id": "Bki-TCCpCYAI",
        "colab_type": "text"
      },
      "source": [
        "Finalmente, tenemos el caso de la interpolación:"
      ]
    },
    {
      "cell_type": "code",
      "metadata": {
        "id": "sCefr-1TCYAJ",
        "colab_type": "code",
        "colab": {}
      },
      "source": [
        "df = pd.DataFrame({'a' : [100,120,130,np.nan,140], 'b' : [9,9,np.nan,7.5,6.5]})"
      ],
      "execution_count": 0,
      "outputs": []
    },
    {
      "cell_type": "code",
      "metadata": {
        "id": "AKbkdGIaCYAN",
        "colab_type": "code",
        "outputId": "dfd57201-0622-45a9-b355-b2a078ca8e9e",
        "colab": {}
      },
      "source": [
        "df"
      ],
      "execution_count": 0,
      "outputs": [
        {
          "output_type": "execute_result",
          "data": {
            "text/html": [
              "<div>\n",
              "<style scoped>\n",
              "    .dataframe tbody tr th:only-of-type {\n",
              "        vertical-align: middle;\n",
              "    }\n",
              "\n",
              "    .dataframe tbody tr th {\n",
              "        vertical-align: top;\n",
              "    }\n",
              "\n",
              "    .dataframe thead th {\n",
              "        text-align: right;\n",
              "    }\n",
              "</style>\n",
              "<table border=\"1\" class=\"dataframe\">\n",
              "  <thead>\n",
              "    <tr style=\"text-align: right;\">\n",
              "      <th></th>\n",
              "      <th>a</th>\n",
              "      <th>b</th>\n",
              "    </tr>\n",
              "  </thead>\n",
              "  <tbody>\n",
              "    <tr>\n",
              "      <th>0</th>\n",
              "      <td>100.0</td>\n",
              "      <td>9.0</td>\n",
              "    </tr>\n",
              "    <tr>\n",
              "      <th>1</th>\n",
              "      <td>120.0</td>\n",
              "      <td>9.0</td>\n",
              "    </tr>\n",
              "    <tr>\n",
              "      <th>2</th>\n",
              "      <td>130.0</td>\n",
              "      <td>NaN</td>\n",
              "    </tr>\n",
              "    <tr>\n",
              "      <th>3</th>\n",
              "      <td>NaN</td>\n",
              "      <td>7.5</td>\n",
              "    </tr>\n",
              "    <tr>\n",
              "      <th>4</th>\n",
              "      <td>140.0</td>\n",
              "      <td>6.5</td>\n",
              "    </tr>\n",
              "  </tbody>\n",
              "</table>\n",
              "</div>"
            ],
            "text/plain": [
              "       a    b\n",
              "0  100.0  9.0\n",
              "1  120.0  9.0\n",
              "2  130.0  NaN\n",
              "3    NaN  7.5\n",
              "4  140.0  6.5"
            ]
          },
          "metadata": {
            "tags": []
          },
          "execution_count": 33
        }
      ]
    },
    {
      "cell_type": "code",
      "metadata": {
        "id": "6_owhlFdCYAR",
        "colab_type": "code",
        "outputId": "ecf616e9-2f33-4a55-b4de-c1a94dfb481e",
        "colab": {}
      },
      "source": [
        "df.interpolate()"
      ],
      "execution_count": 0,
      "outputs": [
        {
          "output_type": "execute_result",
          "data": {
            "text/html": [
              "<div>\n",
              "<style scoped>\n",
              "    .dataframe tbody tr th:only-of-type {\n",
              "        vertical-align: middle;\n",
              "    }\n",
              "\n",
              "    .dataframe tbody tr th {\n",
              "        vertical-align: top;\n",
              "    }\n",
              "\n",
              "    .dataframe thead th {\n",
              "        text-align: right;\n",
              "    }\n",
              "</style>\n",
              "<table border=\"1\" class=\"dataframe\">\n",
              "  <thead>\n",
              "    <tr style=\"text-align: right;\">\n",
              "      <th></th>\n",
              "      <th>a</th>\n",
              "      <th>b</th>\n",
              "    </tr>\n",
              "  </thead>\n",
              "  <tbody>\n",
              "    <tr>\n",
              "      <th>0</th>\n",
              "      <td>100.0</td>\n",
              "      <td>9.00</td>\n",
              "    </tr>\n",
              "    <tr>\n",
              "      <th>1</th>\n",
              "      <td>120.0</td>\n",
              "      <td>9.00</td>\n",
              "    </tr>\n",
              "    <tr>\n",
              "      <th>2</th>\n",
              "      <td>130.0</td>\n",
              "      <td>8.25</td>\n",
              "    </tr>\n",
              "    <tr>\n",
              "      <th>3</th>\n",
              "      <td>135.0</td>\n",
              "      <td>7.50</td>\n",
              "    </tr>\n",
              "    <tr>\n",
              "      <th>4</th>\n",
              "      <td>140.0</td>\n",
              "      <td>6.50</td>\n",
              "    </tr>\n",
              "  </tbody>\n",
              "</table>\n",
              "</div>"
            ],
            "text/plain": [
              "       a     b\n",
              "0  100.0  9.00\n",
              "1  120.0  9.00\n",
              "2  130.0  8.25\n",
              "3  135.0  7.50\n",
              "4  140.0  6.50"
            ]
          },
          "metadata": {
            "tags": []
          },
          "execution_count": 35
        }
      ]
    },
    {
      "cell_type": "markdown",
      "metadata": {
        "id": "qHOwHUJHCYAX",
        "colab_type": "text"
      },
      "source": [
        "# Caso TITANIC"
      ]
    },
    {
      "cell_type": "code",
      "metadata": {
        "id": "B-ZZV_kzCYAZ",
        "colab_type": "code",
        "colab": {}
      },
      "source": [
        "import numpy as np\n",
        "import pandas as pd"
      ],
      "execution_count": 0,
      "outputs": []
    },
    {
      "cell_type": "code",
      "metadata": {
        "id": "QV_6s26ECYAe",
        "colab_type": "code",
        "colab": {}
      },
      "source": [
        "data =  pd.read_csv('https://raw.githubusercontent.com/xxxxxx/Clase2/titanic.csv')"
      ],
      "execution_count": 0,
      "outputs": []
    },
    {
      "cell_type": "code",
      "metadata": {
        "id": "b_9D0tXwCYAl",
        "colab_type": "code",
        "outputId": "d63f7cc9-9da9-421c-a169-1ee72e68ce23",
        "colab": {
          "base_uri": "https://localhost:8080/",
          "height": 36
        }
      },
      "source": [
        "data.shape"
      ],
      "execution_count": 0,
      "outputs": [
        {
          "output_type": "execute_result",
          "data": {
            "text/plain": [
              "(891, 12)"
            ]
          },
          "metadata": {
            "tags": []
          },
          "execution_count": 3
        }
      ]
    },
    {
      "cell_type": "code",
      "metadata": {
        "id": "x_NfC3agCYAq",
        "colab_type": "code",
        "outputId": "b6ddd388-bd82-4dbe-d2f8-ef978d2b1110",
        "colab": {
          "base_uri": "https://localhost:8080/",
          "height": 206
        }
      },
      "source": [
        "data.head(5)"
      ],
      "execution_count": 0,
      "outputs": [
        {
          "output_type": "execute_result",
          "data": {
            "text/html": [
              "<div>\n",
              "<style scoped>\n",
              "    .dataframe tbody tr th:only-of-type {\n",
              "        vertical-align: middle;\n",
              "    }\n",
              "\n",
              "    .dataframe tbody tr th {\n",
              "        vertical-align: top;\n",
              "    }\n",
              "\n",
              "    .dataframe thead th {\n",
              "        text-align: right;\n",
              "    }\n",
              "</style>\n",
              "<table border=\"1\" class=\"dataframe\">\n",
              "  <thead>\n",
              "    <tr style=\"text-align: right;\">\n",
              "      <th></th>\n",
              "      <th>PassengerId</th>\n",
              "      <th>Survived</th>\n",
              "      <th>Pclass</th>\n",
              "      <th>Name</th>\n",
              "      <th>Sex</th>\n",
              "      <th>Age</th>\n",
              "      <th>SibSp</th>\n",
              "      <th>Parch</th>\n",
              "      <th>Ticket</th>\n",
              "      <th>Fare</th>\n",
              "      <th>Cabin</th>\n",
              "      <th>Embarked</th>\n",
              "    </tr>\n",
              "  </thead>\n",
              "  <tbody>\n",
              "    <tr>\n",
              "      <th>0</th>\n",
              "      <td>1</td>\n",
              "      <td>0</td>\n",
              "      <td>3</td>\n",
              "      <td>Braund, Mr. Owen Harris</td>\n",
              "      <td>male</td>\n",
              "      <td>22.0</td>\n",
              "      <td>1</td>\n",
              "      <td>0</td>\n",
              "      <td>A/5 21171</td>\n",
              "      <td>7.2500</td>\n",
              "      <td>NaN</td>\n",
              "      <td>S</td>\n",
              "    </tr>\n",
              "    <tr>\n",
              "      <th>1</th>\n",
              "      <td>2</td>\n",
              "      <td>1</td>\n",
              "      <td>1</td>\n",
              "      <td>Cumings, Mrs. John Bradley (Florence Briggs Th...</td>\n",
              "      <td>female</td>\n",
              "      <td>38.0</td>\n",
              "      <td>1</td>\n",
              "      <td>0</td>\n",
              "      <td>PC 17599</td>\n",
              "      <td>71.2833</td>\n",
              "      <td>C85</td>\n",
              "      <td>C</td>\n",
              "    </tr>\n",
              "    <tr>\n",
              "      <th>2</th>\n",
              "      <td>3</td>\n",
              "      <td>1</td>\n",
              "      <td>3</td>\n",
              "      <td>Heikkinen, Miss. Laina</td>\n",
              "      <td>female</td>\n",
              "      <td>26.0</td>\n",
              "      <td>0</td>\n",
              "      <td>0</td>\n",
              "      <td>STON/O2. 3101282</td>\n",
              "      <td>7.9250</td>\n",
              "      <td>NaN</td>\n",
              "      <td>S</td>\n",
              "    </tr>\n",
              "    <tr>\n",
              "      <th>3</th>\n",
              "      <td>4</td>\n",
              "      <td>1</td>\n",
              "      <td>1</td>\n",
              "      <td>Futrelle, Mrs. Jacques Heath (Lily May Peel)</td>\n",
              "      <td>female</td>\n",
              "      <td>35.0</td>\n",
              "      <td>1</td>\n",
              "      <td>0</td>\n",
              "      <td>113803</td>\n",
              "      <td>53.1000</td>\n",
              "      <td>C123</td>\n",
              "      <td>S</td>\n",
              "    </tr>\n",
              "    <tr>\n",
              "      <th>4</th>\n",
              "      <td>5</td>\n",
              "      <td>0</td>\n",
              "      <td>3</td>\n",
              "      <td>Allen, Mr. William Henry</td>\n",
              "      <td>male</td>\n",
              "      <td>35.0</td>\n",
              "      <td>0</td>\n",
              "      <td>0</td>\n",
              "      <td>373450</td>\n",
              "      <td>8.0500</td>\n",
              "      <td>NaN</td>\n",
              "      <td>S</td>\n",
              "    </tr>\n",
              "  </tbody>\n",
              "</table>\n",
              "</div>"
            ],
            "text/plain": [
              "   PassengerId  Survived  Pclass  ...     Fare Cabin  Embarked\n",
              "0            1         0       3  ...   7.2500   NaN         S\n",
              "1            2         1       1  ...  71.2833   C85         C\n",
              "2            3         1       3  ...   7.9250   NaN         S\n",
              "3            4         1       1  ...  53.1000  C123         S\n",
              "4            5         0       3  ...   8.0500   NaN         S\n",
              "\n",
              "[5 rows x 12 columns]"
            ]
          },
          "metadata": {
            "tags": []
          },
          "execution_count": 4
        }
      ]
    },
    {
      "cell_type": "markdown",
      "metadata": {
        "id": "Bn8aJ-qtCYAz",
        "colab_type": "text"
      },
      "source": [
        "Podemos seleccionar el arreglo de columas que sean de nuestro interés:"
      ]
    },
    {
      "cell_type": "code",
      "metadata": {
        "id": "pAb5n5-qCYA0",
        "colab_type": "code",
        "colab": {}
      },
      "source": [
        "cols_to_use = ['Pclass', 'Sex', 'Age','Fare','Survived']"
      ],
      "execution_count": 0,
      "outputs": []
    },
    {
      "cell_type": "code",
      "metadata": {
        "id": "dUGx-ffWCYA3",
        "colab_type": "code",
        "colab": {}
      },
      "source": [
        "data = data[cols_to_use]"
      ],
      "execution_count": 0,
      "outputs": []
    },
    {
      "cell_type": "code",
      "metadata": {
        "id": "1DWBup_mCYA8",
        "colab_type": "code",
        "outputId": "0dde9de5-0613-45a2-c614-5b9cc52628ed",
        "colab": {}
      },
      "source": [
        "data.head(10)"
      ],
      "execution_count": 0,
      "outputs": [
        {
          "output_type": "execute_result",
          "data": {
            "text/html": [
              "<div>\n",
              "<style scoped>\n",
              "    .dataframe tbody tr th:only-of-type {\n",
              "        vertical-align: middle;\n",
              "    }\n",
              "\n",
              "    .dataframe tbody tr th {\n",
              "        vertical-align: top;\n",
              "    }\n",
              "\n",
              "    .dataframe thead th {\n",
              "        text-align: right;\n",
              "    }\n",
              "</style>\n",
              "<table border=\"1\" class=\"dataframe\">\n",
              "  <thead>\n",
              "    <tr style=\"text-align: right;\">\n",
              "      <th></th>\n",
              "      <th>Pclass</th>\n",
              "      <th>Sex</th>\n",
              "      <th>Age</th>\n",
              "      <th>Fare</th>\n",
              "      <th>Survived</th>\n",
              "    </tr>\n",
              "  </thead>\n",
              "  <tbody>\n",
              "    <tr>\n",
              "      <th>0</th>\n",
              "      <td>3</td>\n",
              "      <td>male</td>\n",
              "      <td>22.0</td>\n",
              "      <td>7.2500</td>\n",
              "      <td>0</td>\n",
              "    </tr>\n",
              "    <tr>\n",
              "      <th>1</th>\n",
              "      <td>1</td>\n",
              "      <td>female</td>\n",
              "      <td>38.0</td>\n",
              "      <td>71.2833</td>\n",
              "      <td>1</td>\n",
              "    </tr>\n",
              "    <tr>\n",
              "      <th>2</th>\n",
              "      <td>3</td>\n",
              "      <td>female</td>\n",
              "      <td>26.0</td>\n",
              "      <td>7.9250</td>\n",
              "      <td>1</td>\n",
              "    </tr>\n",
              "    <tr>\n",
              "      <th>3</th>\n",
              "      <td>1</td>\n",
              "      <td>female</td>\n",
              "      <td>35.0</td>\n",
              "      <td>53.1000</td>\n",
              "      <td>1</td>\n",
              "    </tr>\n",
              "    <tr>\n",
              "      <th>4</th>\n",
              "      <td>3</td>\n",
              "      <td>male</td>\n",
              "      <td>35.0</td>\n",
              "      <td>8.0500</td>\n",
              "      <td>0</td>\n",
              "    </tr>\n",
              "    <tr>\n",
              "      <th>5</th>\n",
              "      <td>3</td>\n",
              "      <td>male</td>\n",
              "      <td>NaN</td>\n",
              "      <td>8.4583</td>\n",
              "      <td>0</td>\n",
              "    </tr>\n",
              "    <tr>\n",
              "      <th>6</th>\n",
              "      <td>1</td>\n",
              "      <td>male</td>\n",
              "      <td>54.0</td>\n",
              "      <td>51.8625</td>\n",
              "      <td>0</td>\n",
              "    </tr>\n",
              "    <tr>\n",
              "      <th>7</th>\n",
              "      <td>3</td>\n",
              "      <td>male</td>\n",
              "      <td>2.0</td>\n",
              "      <td>21.0750</td>\n",
              "      <td>0</td>\n",
              "    </tr>\n",
              "    <tr>\n",
              "      <th>8</th>\n",
              "      <td>3</td>\n",
              "      <td>female</td>\n",
              "      <td>27.0</td>\n",
              "      <td>11.1333</td>\n",
              "      <td>1</td>\n",
              "    </tr>\n",
              "    <tr>\n",
              "      <th>9</th>\n",
              "      <td>2</td>\n",
              "      <td>female</td>\n",
              "      <td>14.0</td>\n",
              "      <td>30.0708</td>\n",
              "      <td>1</td>\n",
              "    </tr>\n",
              "  </tbody>\n",
              "</table>\n",
              "</div>"
            ],
            "text/plain": [
              "   Pclass     Sex   Age     Fare  Survived\n",
              "0       3    male  22.0   7.2500         0\n",
              "1       1  female  38.0  71.2833         1\n",
              "2       3  female  26.0   7.9250         1\n",
              "3       1  female  35.0  53.1000         1\n",
              "4       3    male  35.0   8.0500         0\n",
              "5       3    male   NaN   8.4583         0\n",
              "6       1    male  54.0  51.8625         0\n",
              "7       3    male   2.0  21.0750         0\n",
              "8       3  female  27.0  11.1333         1\n",
              "9       2  female  14.0  30.0708         1"
            ]
          },
          "metadata": {
            "tags": []
          },
          "execution_count": 102
        }
      ]
    },
    {
      "cell_type": "markdown",
      "metadata": {
        "id": "EZAaQ0yaCYBE",
        "colab_type": "text"
      },
      "source": [
        "Validamos la existencia de NaN:"
      ]
    },
    {
      "cell_type": "code",
      "metadata": {
        "id": "Tm4j9T3gCYBF",
        "colab_type": "code",
        "outputId": "acbd3f3b-f687-4266-8b58-676eacd35c25",
        "colab": {}
      },
      "source": [
        "data.isnull().values.any()"
      ],
      "execution_count": 0,
      "outputs": [
        {
          "output_type": "execute_result",
          "data": {
            "text/plain": [
              "True"
            ]
          },
          "metadata": {
            "tags": []
          },
          "execution_count": 103
        }
      ]
    },
    {
      "cell_type": "markdown",
      "metadata": {
        "id": "yY210Ml-CYBJ",
        "colab_type": "text"
      },
      "source": [
        "Validamos el tamaño original del dataset:"
      ]
    },
    {
      "cell_type": "code",
      "metadata": {
        "id": "BxvBdHUxCYBL",
        "colab_type": "code",
        "outputId": "86e06baa-c6e6-4224-e2d6-98d3252c0969",
        "colab": {}
      },
      "source": [
        "data.shape"
      ],
      "execution_count": 0,
      "outputs": [
        {
          "output_type": "execute_result",
          "data": {
            "text/plain": [
              "(891, 5)"
            ]
          },
          "metadata": {
            "tags": []
          },
          "execution_count": 44
        }
      ]
    },
    {
      "cell_type": "markdown",
      "metadata": {
        "id": "3-NyLJy2CYBQ",
        "colab_type": "text"
      },
      "source": [
        "Decidimos eliminar cualquier instancia que contenga al menos, un NaN:"
      ]
    },
    {
      "cell_type": "code",
      "metadata": {
        "id": "T13w_HImCYBR",
        "colab_type": "code",
        "colab": {}
      },
      "source": [
        "data = data.dropna()"
      ],
      "execution_count": 0,
      "outputs": []
    },
    {
      "cell_type": "markdown",
      "metadata": {
        "id": "7d3bsbYyCYBV",
        "colab_type": "text"
      },
      "source": [
        "y verificamos el tamaño final del dataset:"
      ]
    },
    {
      "cell_type": "code",
      "metadata": {
        "id": "bhIQbicUCYBW",
        "colab_type": "code",
        "outputId": "5a0150ae-edd4-48f5-80dd-21399b34fd02",
        "colab": {}
      },
      "source": [
        "data.shape"
      ],
      "execution_count": 0,
      "outputs": [
        {
          "output_type": "execute_result",
          "data": {
            "text/plain": [
              "(714, 5)"
            ]
          },
          "metadata": {
            "tags": []
          },
          "execution_count": 47
        }
      ]
    },
    {
      "cell_type": "markdown",
      "metadata": {
        "id": "MxrxC4FXCYBa",
        "colab_type": "text"
      },
      "source": [
        "Notamos como 177 instancias fueron eliminadas."
      ]
    },
    {
      "cell_type": "markdown",
      "metadata": {
        "id": "ObYlz4LvCYBb",
        "colab_type": "text"
      },
      "source": [
        "Qué sigue? Debemos de verificar si hay alguna variable categórica, de existir debemos de binarizarla:"
      ]
    },
    {
      "cell_type": "code",
      "metadata": {
        "id": "Wxi17LtRCYBe",
        "colab_type": "code",
        "colab": {}
      },
      "source": [
        "data['Sex'] = data['Sex'].replace({'male' : 0, 'female' : 1})"
      ],
      "execution_count": 0,
      "outputs": []
    },
    {
      "cell_type": "code",
      "metadata": {
        "id": "ncf-fOmUCYBj",
        "colab_type": "code",
        "outputId": "2967797b-1dd5-40e6-eb59-317b69a2cefc",
        "colab": {}
      },
      "source": [
        "data.head(10)"
      ],
      "execution_count": 0,
      "outputs": [
        {
          "output_type": "execute_result",
          "data": {
            "text/html": [
              "<div>\n",
              "<style scoped>\n",
              "    .dataframe tbody tr th:only-of-type {\n",
              "        vertical-align: middle;\n",
              "    }\n",
              "\n",
              "    .dataframe tbody tr th {\n",
              "        vertical-align: top;\n",
              "    }\n",
              "\n",
              "    .dataframe thead th {\n",
              "        text-align: right;\n",
              "    }\n",
              "</style>\n",
              "<table border=\"1\" class=\"dataframe\">\n",
              "  <thead>\n",
              "    <tr style=\"text-align: right;\">\n",
              "      <th></th>\n",
              "      <th>Pclass</th>\n",
              "      <th>Sex</th>\n",
              "      <th>Age</th>\n",
              "      <th>Fare</th>\n",
              "      <th>Survived</th>\n",
              "    </tr>\n",
              "  </thead>\n",
              "  <tbody>\n",
              "    <tr>\n",
              "      <th>0</th>\n",
              "      <td>3</td>\n",
              "      <td>0</td>\n",
              "      <td>22.0</td>\n",
              "      <td>7.2500</td>\n",
              "      <td>0</td>\n",
              "    </tr>\n",
              "    <tr>\n",
              "      <th>1</th>\n",
              "      <td>1</td>\n",
              "      <td>1</td>\n",
              "      <td>38.0</td>\n",
              "      <td>71.2833</td>\n",
              "      <td>1</td>\n",
              "    </tr>\n",
              "    <tr>\n",
              "      <th>2</th>\n",
              "      <td>3</td>\n",
              "      <td>1</td>\n",
              "      <td>26.0</td>\n",
              "      <td>7.9250</td>\n",
              "      <td>1</td>\n",
              "    </tr>\n",
              "    <tr>\n",
              "      <th>3</th>\n",
              "      <td>1</td>\n",
              "      <td>1</td>\n",
              "      <td>35.0</td>\n",
              "      <td>53.1000</td>\n",
              "      <td>1</td>\n",
              "    </tr>\n",
              "    <tr>\n",
              "      <th>4</th>\n",
              "      <td>3</td>\n",
              "      <td>0</td>\n",
              "      <td>35.0</td>\n",
              "      <td>8.0500</td>\n",
              "      <td>0</td>\n",
              "    </tr>\n",
              "    <tr>\n",
              "      <th>6</th>\n",
              "      <td>1</td>\n",
              "      <td>0</td>\n",
              "      <td>54.0</td>\n",
              "      <td>51.8625</td>\n",
              "      <td>0</td>\n",
              "    </tr>\n",
              "    <tr>\n",
              "      <th>7</th>\n",
              "      <td>3</td>\n",
              "      <td>0</td>\n",
              "      <td>2.0</td>\n",
              "      <td>21.0750</td>\n",
              "      <td>0</td>\n",
              "    </tr>\n",
              "    <tr>\n",
              "      <th>8</th>\n",
              "      <td>3</td>\n",
              "      <td>1</td>\n",
              "      <td>27.0</td>\n",
              "      <td>11.1333</td>\n",
              "      <td>1</td>\n",
              "    </tr>\n",
              "    <tr>\n",
              "      <th>9</th>\n",
              "      <td>2</td>\n",
              "      <td>1</td>\n",
              "      <td>14.0</td>\n",
              "      <td>30.0708</td>\n",
              "      <td>1</td>\n",
              "    </tr>\n",
              "    <tr>\n",
              "      <th>10</th>\n",
              "      <td>3</td>\n",
              "      <td>1</td>\n",
              "      <td>4.0</td>\n",
              "      <td>16.7000</td>\n",
              "      <td>1</td>\n",
              "    </tr>\n",
              "  </tbody>\n",
              "</table>\n",
              "</div>"
            ],
            "text/plain": [
              "    Pclass  Sex   Age     Fare  Survived\n",
              "0        3    0  22.0   7.2500         0\n",
              "1        1    1  38.0  71.2833         1\n",
              "2        3    1  26.0   7.9250         1\n",
              "3        1    1  35.0  53.1000         1\n",
              "4        3    0  35.0   8.0500         0\n",
              "6        1    0  54.0  51.8625         0\n",
              "7        3    0   2.0  21.0750         0\n",
              "8        3    1  27.0  11.1333         1\n",
              "9        2    1  14.0  30.0708         1\n",
              "10       3    1   4.0  16.7000         1"
            ]
          },
          "metadata": {
            "tags": []
          },
          "execution_count": 106
        }
      ]
    },
    {
      "cell_type": "markdown",
      "metadata": {
        "id": "grdWqDXMCYBm",
        "colab_type": "text"
      },
      "source": [
        "Finalmente como etapa previa a los algoritmos de aprendizaje, partimos nuestro dataset en *training* y *testing*:"
      ]
    },
    {
      "cell_type": "code",
      "metadata": {
        "id": "d3_E8bvyCYBn",
        "colab_type": "code",
        "colab": {}
      },
      "source": [
        "from sklearn.model_selection import train_test_split"
      ],
      "execution_count": 0,
      "outputs": []
    },
    {
      "cell_type": "markdown",
      "metadata": {
        "id": "kc9uauLOCYBw",
        "colab_type": "text"
      },
      "source": [
        "Creamos nuestro conjunto de features (X) y labels (y):"
      ]
    },
    {
      "cell_type": "code",
      "metadata": {
        "id": "6nguGcTWCYBx",
        "colab_type": "code",
        "colab": {}
      },
      "source": [
        "features = data[['Sex','Age','Fare']]\n",
        "labels = data['Survived']"
      ],
      "execution_count": 0,
      "outputs": []
    },
    {
      "cell_type": "code",
      "metadata": {
        "id": "Nyue9qZTCYB0",
        "colab_type": "code",
        "colab": {}
      },
      "source": [
        "X_train,X_test, y_train, y_test = train_test_split(features, labels, random_state = 13)"
      ],
      "execution_count": 0,
      "outputs": []
    },
    {
      "cell_type": "code",
      "metadata": {
        "id": "MP3ABQbeCYB4",
        "colab_type": "code",
        "outputId": "872cc108-f823-4cab-ee3c-1c31efca27d9",
        "colab": {}
      },
      "source": [
        "data.shape"
      ],
      "execution_count": 0,
      "outputs": [
        {
          "output_type": "execute_result",
          "data": {
            "text/plain": [
              "(714, 5)"
            ]
          },
          "metadata": {
            "tags": []
          },
          "execution_count": 55
        }
      ]
    },
    {
      "cell_type": "code",
      "metadata": {
        "id": "esUGiILbCYB8",
        "colab_type": "code",
        "outputId": "958e11a3-bf04-440b-f30c-be8615d2fd40",
        "colab": {}
      },
      "source": [
        "X_train.shape"
      ],
      "execution_count": 0,
      "outputs": [
        {
          "output_type": "execute_result",
          "data": {
            "text/plain": [
              "(535, 3)"
            ]
          },
          "metadata": {
            "tags": []
          },
          "execution_count": 54
        }
      ]
    },
    {
      "cell_type": "code",
      "metadata": {
        "id": "r43ZaA-wCYCA",
        "colab_type": "code",
        "outputId": "515eea2a-a1fb-42e7-cda0-0e2be8aa31a2",
        "colab": {}
      },
      "source": [
        "y_test.shape"
      ],
      "execution_count": 0,
      "outputs": [
        {
          "output_type": "execute_result",
          "data": {
            "text/plain": [
              "(179,)"
            ]
          },
          "metadata": {
            "tags": []
          },
          "execution_count": 57
        }
      ]
    },
    {
      "cell_type": "markdown",
      "metadata": {
        "id": "C0LlRXxVCYCE",
        "colab_type": "text"
      },
      "source": [
        "Nótese como por defecto el tamaño de *training* es del 75% (535/714) y *testing* del 25% (179/714), si deseamos una partición distinta, por ejemplo 80% *training* y 20% *testing*, lo hacemos de la siguiente manera:"
      ]
    },
    {
      "cell_type": "code",
      "metadata": {
        "id": "LshiwDRQCYCE",
        "colab_type": "code",
        "colab": {}
      },
      "source": [
        "X_train,X_test, y_train, y_test = train_test_split(features, labels, test_size=0.20, random_state = 13) "
      ],
      "execution_count": 0,
      "outputs": []
    },
    {
      "cell_type": "code",
      "metadata": {
        "id": "ES-4DwUbCYCI",
        "colab_type": "code",
        "outputId": "b5ba52d3-2dd2-4b3a-f375-f57539f411ff",
        "colab": {}
      },
      "source": [
        "X_train.shape"
      ],
      "execution_count": 0,
      "outputs": [
        {
          "output_type": "execute_result",
          "data": {
            "text/plain": [
              "(571, 3)"
            ]
          },
          "metadata": {
            "tags": []
          },
          "execution_count": 109
        }
      ]
    },
    {
      "cell_type": "markdown",
      "metadata": {
        "id": "zH_G3WZQCYCM",
        "colab_type": "text"
      },
      "source": [
        "Efectivamente ahora 571 corresponde al 80% de 714."
      ]
    },
    {
      "cell_type": "markdown",
      "metadata": {
        "id": "w-xvdU4QCYCN",
        "colab_type": "text"
      },
      "source": [
        "### Truco: (en PANDAS 0.25)"
      ]
    },
    {
      "cell_type": "code",
      "metadata": {
        "id": "rDwRjl7ACYCO",
        "colab_type": "code",
        "colab": {}
      },
      "source": [
        "import pandas as pd\n",
        "import matplotlib.pyplot as plt"
      ],
      "execution_count": 0,
      "outputs": []
    },
    {
      "cell_type": "code",
      "metadata": {
        "id": "d7R93sAcCYCS",
        "colab_type": "code",
        "colab": {}
      },
      "source": [
        "dataset = pd.read_csv('https://raw.githubusercontent.com/xxxxxx/Clase2/pima-indians-diabetes.csv')"
      ],
      "execution_count": 0,
      "outputs": []
    },
    {
      "cell_type": "code",
      "metadata": {
        "id": "zZaYgEliCYCV",
        "colab_type": "code",
        "colab": {}
      },
      "source": [
        "dataset.columns = ['Preg','Gluc','BP','SkinT','Insulin','BMI','DPF','Age','Outcome']"
      ],
      "execution_count": 0,
      "outputs": []
    },
    {
      "cell_type": "code",
      "metadata": {
        "id": "RO-oWgQFCYCY",
        "colab_type": "code",
        "outputId": "dad89b5a-ade3-418d-affb-af94752c0148",
        "colab": {}
      },
      "source": [
        "dataset.plot()"
      ],
      "execution_count": 0,
      "outputs": [
        {
          "output_type": "execute_result",
          "data": {
            "text/plain": [
              "<matplotlib.axes._subplots.AxesSubplot at 0x1187c0438>"
            ]
          },
          "metadata": {
            "tags": []
          },
          "execution_count": 18
        },
        {
          "output_type": "display_data",
          "data": {
            "image/png": "[encoded data removed]",
            "text/plain": [
              "<Figure size 432x288 with 1 Axes>"
            ]
          },
          "metadata": {
            "tags": []
          }
        }
      ]
    },
    {
      "cell_type": "code",
      "metadata": {
        "id": "v9WAP79WCYCd",
        "colab_type": "code",
        "outputId": "34dcda87-1c2c-4d15-dca2-0989a1aca6af",
        "colab": {}
      },
      "source": [
        "dataset.plot()\n",
        "plt.xlim(10,20)"
      ],
      "execution_count": 0,
      "outputs": [
        {
          "output_type": "execute_result",
          "data": {
            "text/plain": [
              "(10, 20)"
            ]
          },
          "metadata": {
            "tags": []
          },
          "execution_count": 19
        },
        {
          "output_type": "display_data",
          "data": {
            "image/png": "[encoded data removed]",
            "text/plain": [
              "<Figure size 432x288 with 1 Axes>"
            ]
          },
          "metadata": {
            "tags": []
          }
        }
      ]
    },
    {
      "cell_type": "code",
      "metadata": {
        "id": "7qJx2nwgCYCh",
        "colab_type": "code",
        "outputId": "932428e5-21ca-4694-8d6e-71d11252d4b8",
        "colab": {}
      },
      "source": [
        "dataset['Preg'].plot()\n",
        "plt.xlim(10,30)"
      ],
      "execution_count": 0,
      "outputs": [
        {
          "output_type": "execute_result",
          "data": {
            "text/plain": [
              "(10, 30)"
            ]
          },
          "metadata": {
            "tags": []
          },
          "execution_count": 21
        },
        {
          "output_type": "display_data",
          "data": {
            "image/png": "[encoded data removed]",
            "text/plain": [
              "<Figure size 432x288 with 1 Axes>"
            ]
          },
          "metadata": {
            "tags": []
          }
        }
      ]
    },
    {
      "cell_type": "code",
      "metadata": {
        "id": "uomAH3udCYCm",
        "colab_type": "code",
        "outputId": "74174f09-0166-4294-c4ae-afd24b35df1c",
        "colab": {}
      },
      "source": [
        "dataset['Preg'].plot.bar()\n",
        "plt.xlim(10,30)"
      ],
      "execution_count": 0,
      "outputs": [
        {
          "output_type": "execute_result",
          "data": {
            "text/plain": [
              "(10, 30)"
            ]
          },
          "metadata": {
            "tags": []
          },
          "execution_count": 20
        },
        {
          "output_type": "display_data",
          "data": {
            "image/png": "[encoded data removed]",
            "text/plain": [
              "<Figure size 432x288 with 1 Axes>"
            ]
          },
          "metadata": {
            "tags": []
          }
        }
      ]
    },
    {
      "cell_type": "code",
      "metadata": {
        "id": "2lfG-kObCYCq",
        "colab_type": "code",
        "colab": {}
      },
      "source": [
        ""
      ],
      "execution_count": 0,
      "outputs": []
    }
  ]
}