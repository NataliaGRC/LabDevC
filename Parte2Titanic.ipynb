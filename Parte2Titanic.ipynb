{
  "nbformat": 4,
  "nbformat_minor": 0,
  "metadata": {
    "kernelspec": {
      "display_name": "Python 3",
      "language": "python",
      "name": "python3"
    },
    "language_info": {
      "codemirror_mode": {
        "name": "ipython",
        "version": 3
      },
      "file_extension": ".py",
      "mimetype": "text/x-python",
      "name": "python",
      "nbconvert_exporter": "python",
      "pygments_lexer": "ipython3",
      "version": "3.6.7"
    },
    "colab": {
      "name": "Parte2Titanic.ipynb",
      "provenance": []
    }
  },
  "cells": [
    {
      "cell_type": "markdown",
      "metadata": {
        "id": "IkfHqo0fwEJb",
        "colab_type": "text"
      },
      "source": [
        "## Ejemplo de uso de Aprendizaje Supervisado"
      ]
    },
    {
      "cell_type": "markdown",
      "metadata": {
        "id": "XYJhLKmTwEJe",
        "colab_type": "text"
      },
      "source": [
        "Primeramente importamos las librerias básicas!"
      ]
    },
    {
      "cell_type": "code",
      "metadata": {
        "id": "mOv8fwe6wEJh",
        "colab_type": "code",
        "colab": {}
      },
      "source": [
        "import numpy as np\n",
        "import pandas as pd"
      ],
      "execution_count": 0,
      "outputs": []
    },
    {
      "cell_type": "markdown",
      "metadata": {
        "id": "Lbl-JRPwwEJn",
        "colab_type": "text"
      },
      "source": [
        "Seguidamente, exportamos los datos:"
      ]
    },
    {
      "cell_type": "code",
      "metadata": {
        "id": "A72eCT1BwEJp",
        "colab_type": "code",
        "colab": {}
      },
      "source": [
        "data = pd.read_csv('https://raw.githubusercontent.com/fmezacr/DataScienceTEC/master/Clase2/titanic.csv')"
      ],
      "execution_count": 0,
      "outputs": []
    },
    {
      "cell_type": "markdown",
      "metadata": {
        "id": "8jwPKpCKwEJt",
        "colab_type": "text"
      },
      "source": [
        "Verificamos el tamaño de los datos, donde verificamos que se trate de 891 instancias y 12 columnas de features: "
      ]
    },
    {
      "cell_type": "code",
      "metadata": {
        "id": "X4gih62ywEJu",
        "colab_type": "code",
        "colab": {},
        "outputId": "44f60124-7ef5-4abd-c057-d52dfd1be35e"
      },
      "source": [
        "data.shape"
      ],
      "execution_count": 0,
      "outputs": [
        {
          "output_type": "execute_result",
          "data": {
            "text/plain": [
              "(891, 12)"
            ]
          },
          "metadata": {
            "tags": []
          },
          "execution_count": 3
        }
      ]
    },
    {
      "cell_type": "markdown",
      "metadata": {
        "id": "vzkFdiBlwEJ0",
        "colab_type": "text"
      },
      "source": [
        "Visualizamos los primeros datos con .head() "
      ]
    },
    {
      "cell_type": "code",
      "metadata": {
        "id": "S5mbSGFrwEJ2",
        "colab_type": "code",
        "colab": {},
        "outputId": "984d8a6c-1320-419f-c2b9-c6781ea80962"
      },
      "source": [
        "data.head()"
      ],
      "execution_count": 0,
      "outputs": [
        {
          "output_type": "execute_result",
          "data": {
            "text/html": [
              "<div>\n",
              "<style scoped>\n",
              "    .dataframe tbody tr th:only-of-type {\n",
              "        vertical-align: middle;\n",
              "    }\n",
              "\n",
              "    .dataframe tbody tr th {\n",
              "        vertical-align: top;\n",
              "    }\n",
              "\n",
              "    .dataframe thead th {\n",
              "        text-align: right;\n",
              "    }\n",
              "</style>\n",
              "<table border=\"1\" class=\"dataframe\">\n",
              "  <thead>\n",
              "    <tr style=\"text-align: right;\">\n",
              "      <th></th>\n",
              "      <th>PassengerId</th>\n",
              "      <th>Survived</th>\n",
              "      <th>Pclass</th>\n",
              "      <th>Name</th>\n",
              "      <th>Sex</th>\n",
              "      <th>Age</th>\n",
              "      <th>SibSp</th>\n",
              "      <th>Parch</th>\n",
              "      <th>Ticket</th>\n",
              "      <th>Fare</th>\n",
              "      <th>Cabin</th>\n",
              "      <th>Embarked</th>\n",
              "    </tr>\n",
              "  </thead>\n",
              "  <tbody>\n",
              "    <tr>\n",
              "      <th>0</th>\n",
              "      <td>1</td>\n",
              "      <td>0</td>\n",
              "      <td>3</td>\n",
              "      <td>Braund, Mr. Owen Harris</td>\n",
              "      <td>male</td>\n",
              "      <td>22.0</td>\n",
              "      <td>1</td>\n",
              "      <td>0</td>\n",
              "      <td>A/5 21171</td>\n",
              "      <td>7.2500</td>\n",
              "      <td>NaN</td>\n",
              "      <td>S</td>\n",
              "    </tr>\n",
              "    <tr>\n",
              "      <th>1</th>\n",
              "      <td>2</td>\n",
              "      <td>1</td>\n",
              "      <td>1</td>\n",
              "      <td>Cumings, Mrs. John Bradley (Florence Briggs Th...</td>\n",
              "      <td>female</td>\n",
              "      <td>38.0</td>\n",
              "      <td>1</td>\n",
              "      <td>0</td>\n",
              "      <td>PC 17599</td>\n",
              "      <td>71.2833</td>\n",
              "      <td>C85</td>\n",
              "      <td>C</td>\n",
              "    </tr>\n",
              "    <tr>\n",
              "      <th>2</th>\n",
              "      <td>3</td>\n",
              "      <td>1</td>\n",
              "      <td>3</td>\n",
              "      <td>Heikkinen, Miss. Laina</td>\n",
              "      <td>female</td>\n",
              "      <td>26.0</td>\n",
              "      <td>0</td>\n",
              "      <td>0</td>\n",
              "      <td>STON/O2. 3101282</td>\n",
              "      <td>7.9250</td>\n",
              "      <td>NaN</td>\n",
              "      <td>S</td>\n",
              "    </tr>\n",
              "    <tr>\n",
              "      <th>3</th>\n",
              "      <td>4</td>\n",
              "      <td>1</td>\n",
              "      <td>1</td>\n",
              "      <td>Futrelle, Mrs. Jacques Heath (Lily May Peel)</td>\n",
              "      <td>female</td>\n",
              "      <td>35.0</td>\n",
              "      <td>1</td>\n",
              "      <td>0</td>\n",
              "      <td>113803</td>\n",
              "      <td>53.1000</td>\n",
              "      <td>C123</td>\n",
              "      <td>S</td>\n",
              "    </tr>\n",
              "    <tr>\n",
              "      <th>4</th>\n",
              "      <td>5</td>\n",
              "      <td>0</td>\n",
              "      <td>3</td>\n",
              "      <td>Allen, Mr. William Henry</td>\n",
              "      <td>male</td>\n",
              "      <td>35.0</td>\n",
              "      <td>0</td>\n",
              "      <td>0</td>\n",
              "      <td>373450</td>\n",
              "      <td>8.0500</td>\n",
              "      <td>NaN</td>\n",
              "      <td>S</td>\n",
              "    </tr>\n",
              "  </tbody>\n",
              "</table>\n",
              "</div>"
            ],
            "text/plain": [
              "   PassengerId  Survived  Pclass  \\\n",
              "0            1         0       3   \n",
              "1            2         1       1   \n",
              "2            3         1       3   \n",
              "3            4         1       1   \n",
              "4            5         0       3   \n",
              "\n",
              "                                                Name     Sex   Age  SibSp  \\\n",
              "0                            Braund, Mr. Owen Harris    male  22.0      1   \n",
              "1  Cumings, Mrs. John Bradley (Florence Briggs Th...  female  38.0      1   \n",
              "2                             Heikkinen, Miss. Laina  female  26.0      0   \n",
              "3       Futrelle, Mrs. Jacques Heath (Lily May Peel)  female  35.0      1   \n",
              "4                           Allen, Mr. William Henry    male  35.0      0   \n",
              "\n",
              "   Parch            Ticket     Fare Cabin Embarked  \n",
              "0      0         A/5 21171   7.2500   NaN        S  \n",
              "1      0          PC 17599  71.2833   C85        C  \n",
              "2      0  STON/O2. 3101282   7.9250   NaN        S  \n",
              "3      0            113803  53.1000  C123        S  \n",
              "4      0            373450   8.0500   NaN        S  "
            ]
          },
          "metadata": {
            "tags": []
          },
          "execution_count": 4
        }
      ]
    },
    {
      "cell_type": "markdown",
      "metadata": {
        "id": "uq07vEl2wEJ7",
        "colab_type": "text"
      },
      "source": [
        "Elegimos nuestras columnas de interes:"
      ]
    },
    {
      "cell_type": "code",
      "metadata": {
        "id": "mTDdfEP8wEJ-",
        "colab_type": "code",
        "colab": {}
      },
      "source": [
        "cols_to_use = ['Pclass','Sex','Age','SibSp','Parch','Fare','Survived']\n",
        "data = data[cols_to_use]"
      ],
      "execution_count": 0,
      "outputs": []
    },
    {
      "cell_type": "markdown",
      "metadata": {
        "id": "MVU4bUNEwEKE",
        "colab_type": "text"
      },
      "source": [
        "Verificamos la existencia de NaN:"
      ]
    },
    {
      "cell_type": "code",
      "metadata": {
        "id": "yqOjh4yQwEKF",
        "colab_type": "code",
        "colab": {},
        "outputId": "ef8f0a3d-7972-4143-938e-7a1e18b90fb4"
      },
      "source": [
        "data.isnull().values.any()"
      ],
      "execution_count": 0,
      "outputs": [
        {
          "output_type": "execute_result",
          "data": {
            "text/plain": [
              "True"
            ]
          },
          "metadata": {
            "tags": []
          },
          "execution_count": 6
        }
      ]
    },
    {
      "cell_type": "markdown",
      "metadata": {
        "id": "cO57_0T4wEKJ",
        "colab_type": "text"
      },
      "source": [
        "Convertimos a \"data\" en un nuevo set pero esta vez sin \"NaN\":"
      ]
    },
    {
      "cell_type": "code",
      "metadata": {
        "id": "qmtQcAbcwEKL",
        "colab_type": "code",
        "colab": {}
      },
      "source": [
        "data = data.dropna()"
      ],
      "execution_count": 0,
      "outputs": []
    },
    {
      "cell_type": "markdown",
      "metadata": {
        "id": "lS-aIvWOwEKQ",
        "colab_type": "text"
      },
      "source": [
        "Verificamos el tamano del nuevo set, ahora sin NaN:"
      ]
    },
    {
      "cell_type": "code",
      "metadata": {
        "scrolled": true,
        "id": "YKaQhurVwEKR",
        "colab_type": "code",
        "colab": {},
        "outputId": "24f4000a-0556-4b0f-c364-70544229f96a"
      },
      "source": [
        "data.shape"
      ],
      "execution_count": 0,
      "outputs": [
        {
          "output_type": "execute_result",
          "data": {
            "text/plain": [
              "(714, 7)"
            ]
          },
          "metadata": {
            "tags": []
          },
          "execution_count": 8
        }
      ]
    },
    {
      "cell_type": "markdown",
      "metadata": {
        "id": "Lr_QI2J8wEKW",
        "colab_type": "text"
      },
      "source": [
        "## Modelo de Aprendizaje Simple"
      ]
    },
    {
      "cell_type": "markdown",
      "metadata": {
        "id": "e5-Z4SyWwEKY",
        "colab_type": "text"
      },
      "source": [
        "Reemplazamos el valor categórico de género por valores enteros, en este caso binarios:"
      ]
    },
    {
      "cell_type": "code",
      "metadata": {
        "id": "5Q24wsZPwEKZ",
        "colab_type": "code",
        "colab": {}
      },
      "source": [
        "data['Sex']=data['Sex'].replace({'male': 0, 'female' :1})"
      ],
      "execution_count": 0,
      "outputs": []
    },
    {
      "cell_type": "markdown",
      "metadata": {
        "id": "Fe7k_hd4wEKd",
        "colab_type": "text"
      },
      "source": [
        "Escogemos un conjunto de features básicos y la etiqueta:"
      ]
    },
    {
      "cell_type": "code",
      "metadata": {
        "id": "GKlesUPowEKf",
        "colab_type": "code",
        "colab": {}
      },
      "source": [
        "features = data[['Sex','Age','Fare']]\n"
      ],
      "execution_count": 0,
      "outputs": []
    },
    {
      "cell_type": "code",
      "metadata": {
        "id": "NqLaBoUowEKk",
        "colab_type": "code",
        "colab": {}
      },
      "source": [
        "labels = data['Survived']"
      ],
      "execution_count": 0,
      "outputs": []
    },
    {
      "cell_type": "markdown",
      "metadata": {
        "id": "vttkEHK-wEKq",
        "colab_type": "text"
      },
      "source": [
        "Validamos los cambios llevados a cabo:"
      ]
    },
    {
      "cell_type": "code",
      "metadata": {
        "id": "sBAF38iIwEKr",
        "colab_type": "code",
        "colab": {},
        "outputId": "5ae3f2dd-1e8c-4249-8337-bc0153a0c107"
      },
      "source": [
        "data.head()"
      ],
      "execution_count": 0,
      "outputs": [
        {
          "output_type": "execute_result",
          "data": {
            "text/html": [
              "<div>\n",
              "<style scoped>\n",
              "    .dataframe tbody tr th:only-of-type {\n",
              "        vertical-align: middle;\n",
              "    }\n",
              "\n",
              "    .dataframe tbody tr th {\n",
              "        vertical-align: top;\n",
              "    }\n",
              "\n",
              "    .dataframe thead th {\n",
              "        text-align: right;\n",
              "    }\n",
              "</style>\n",
              "<table border=\"1\" class=\"dataframe\">\n",
              "  <thead>\n",
              "    <tr style=\"text-align: right;\">\n",
              "      <th></th>\n",
              "      <th>Pclass</th>\n",
              "      <th>Sex</th>\n",
              "      <th>Age</th>\n",
              "      <th>SibSp</th>\n",
              "      <th>Parch</th>\n",
              "      <th>Fare</th>\n",
              "      <th>Survived</th>\n",
              "    </tr>\n",
              "  </thead>\n",
              "  <tbody>\n",
              "    <tr>\n",
              "      <th>0</th>\n",
              "      <td>3</td>\n",
              "      <td>0</td>\n",
              "      <td>22.0</td>\n",
              "      <td>1</td>\n",
              "      <td>0</td>\n",
              "      <td>7.2500</td>\n",
              "      <td>0</td>\n",
              "    </tr>\n",
              "    <tr>\n",
              "      <th>1</th>\n",
              "      <td>1</td>\n",
              "      <td>1</td>\n",
              "      <td>38.0</td>\n",
              "      <td>1</td>\n",
              "      <td>0</td>\n",
              "      <td>71.2833</td>\n",
              "      <td>1</td>\n",
              "    </tr>\n",
              "    <tr>\n",
              "      <th>2</th>\n",
              "      <td>3</td>\n",
              "      <td>1</td>\n",
              "      <td>26.0</td>\n",
              "      <td>0</td>\n",
              "      <td>0</td>\n",
              "      <td>7.9250</td>\n",
              "      <td>1</td>\n",
              "    </tr>\n",
              "    <tr>\n",
              "      <th>3</th>\n",
              "      <td>1</td>\n",
              "      <td>1</td>\n",
              "      <td>35.0</td>\n",
              "      <td>1</td>\n",
              "      <td>0</td>\n",
              "      <td>53.1000</td>\n",
              "      <td>1</td>\n",
              "    </tr>\n",
              "    <tr>\n",
              "      <th>4</th>\n",
              "      <td>3</td>\n",
              "      <td>0</td>\n",
              "      <td>35.0</td>\n",
              "      <td>0</td>\n",
              "      <td>0</td>\n",
              "      <td>8.0500</td>\n",
              "      <td>0</td>\n",
              "    </tr>\n",
              "  </tbody>\n",
              "</table>\n",
              "</div>"
            ],
            "text/plain": [
              "   Pclass  Sex   Age  SibSp  Parch     Fare  Survived\n",
              "0       3    0  22.0      1      0   7.2500         0\n",
              "1       1    1  38.0      1      0  71.2833         1\n",
              "2       3    1  26.0      0      0   7.9250         1\n",
              "3       1    1  35.0      1      0  53.1000         1\n",
              "4       3    0  35.0      0      0   8.0500         0"
            ]
          },
          "metadata": {
            "tags": []
          },
          "execution_count": 12
        }
      ]
    },
    {
      "cell_type": "code",
      "metadata": {
        "id": "m0DChTMOwEKx",
        "colab_type": "code",
        "colab": {},
        "outputId": "13544dab-19b5-4a9e-badf-597224e0c06d"
      },
      "source": [
        "features.head()"
      ],
      "execution_count": 0,
      "outputs": [
        {
          "output_type": "execute_result",
          "data": {
            "text/html": [
              "<div>\n",
              "<style scoped>\n",
              "    .dataframe tbody tr th:only-of-type {\n",
              "        vertical-align: middle;\n",
              "    }\n",
              "\n",
              "    .dataframe tbody tr th {\n",
              "        vertical-align: top;\n",
              "    }\n",
              "\n",
              "    .dataframe thead th {\n",
              "        text-align: right;\n",
              "    }\n",
              "</style>\n",
              "<table border=\"1\" class=\"dataframe\">\n",
              "  <thead>\n",
              "    <tr style=\"text-align: right;\">\n",
              "      <th></th>\n",
              "      <th>Sex</th>\n",
              "      <th>Age</th>\n",
              "      <th>Fare</th>\n",
              "    </tr>\n",
              "  </thead>\n",
              "  <tbody>\n",
              "    <tr>\n",
              "      <th>0</th>\n",
              "      <td>0</td>\n",
              "      <td>22.0</td>\n",
              "      <td>7.2500</td>\n",
              "    </tr>\n",
              "    <tr>\n",
              "      <th>1</th>\n",
              "      <td>1</td>\n",
              "      <td>38.0</td>\n",
              "      <td>71.2833</td>\n",
              "    </tr>\n",
              "    <tr>\n",
              "      <th>2</th>\n",
              "      <td>1</td>\n",
              "      <td>26.0</td>\n",
              "      <td>7.9250</td>\n",
              "    </tr>\n",
              "    <tr>\n",
              "      <th>3</th>\n",
              "      <td>1</td>\n",
              "      <td>35.0</td>\n",
              "      <td>53.1000</td>\n",
              "    </tr>\n",
              "    <tr>\n",
              "      <th>4</th>\n",
              "      <td>0</td>\n",
              "      <td>35.0</td>\n",
              "      <td>8.0500</td>\n",
              "    </tr>\n",
              "  </tbody>\n",
              "</table>\n",
              "</div>"
            ],
            "text/plain": [
              "   Sex   Age     Fare\n",
              "0    0  22.0   7.2500\n",
              "1    1  38.0  71.2833\n",
              "2    1  26.0   7.9250\n",
              "3    1  35.0  53.1000\n",
              "4    0  35.0   8.0500"
            ]
          },
          "metadata": {
            "tags": []
          },
          "execution_count": 13
        }
      ]
    },
    {
      "cell_type": "code",
      "metadata": {
        "id": "0PmTGehjwEK3",
        "colab_type": "code",
        "colab": {},
        "outputId": "b2826d58-560b-4ce5-9db7-765cfc3dcfeb"
      },
      "source": [
        "features.tail()"
      ],
      "execution_count": 0,
      "outputs": [
        {
          "output_type": "execute_result",
          "data": {
            "text/html": [
              "<div>\n",
              "<style scoped>\n",
              "    .dataframe tbody tr th:only-of-type {\n",
              "        vertical-align: middle;\n",
              "    }\n",
              "\n",
              "    .dataframe tbody tr th {\n",
              "        vertical-align: top;\n",
              "    }\n",
              "\n",
              "    .dataframe thead th {\n",
              "        text-align: right;\n",
              "    }\n",
              "</style>\n",
              "<table border=\"1\" class=\"dataframe\">\n",
              "  <thead>\n",
              "    <tr style=\"text-align: right;\">\n",
              "      <th></th>\n",
              "      <th>Sex</th>\n",
              "      <th>Age</th>\n",
              "      <th>Fare</th>\n",
              "    </tr>\n",
              "  </thead>\n",
              "  <tbody>\n",
              "    <tr>\n",
              "      <th>885</th>\n",
              "      <td>1</td>\n",
              "      <td>39.0</td>\n",
              "      <td>29.125</td>\n",
              "    </tr>\n",
              "    <tr>\n",
              "      <th>886</th>\n",
              "      <td>0</td>\n",
              "      <td>27.0</td>\n",
              "      <td>13.000</td>\n",
              "    </tr>\n",
              "    <tr>\n",
              "      <th>887</th>\n",
              "      <td>1</td>\n",
              "      <td>19.0</td>\n",
              "      <td>30.000</td>\n",
              "    </tr>\n",
              "    <tr>\n",
              "      <th>889</th>\n",
              "      <td>0</td>\n",
              "      <td>26.0</td>\n",
              "      <td>30.000</td>\n",
              "    </tr>\n",
              "    <tr>\n",
              "      <th>890</th>\n",
              "      <td>0</td>\n",
              "      <td>32.0</td>\n",
              "      <td>7.750</td>\n",
              "    </tr>\n",
              "  </tbody>\n",
              "</table>\n",
              "</div>"
            ],
            "text/plain": [
              "     Sex   Age    Fare\n",
              "885    1  39.0  29.125\n",
              "886    0  27.0  13.000\n",
              "887    1  19.0  30.000\n",
              "889    0  26.0  30.000\n",
              "890    0  32.0   7.750"
            ]
          },
          "metadata": {
            "tags": []
          },
          "execution_count": 14
        }
      ]
    },
    {
      "cell_type": "markdown",
      "metadata": {
        "id": "7T7cwRVswEK6",
        "colab_type": "text"
      },
      "source": [
        "Procedemos a partir el conjunto de datos en training y testing:"
      ]
    },
    {
      "cell_type": "code",
      "metadata": {
        "id": "PawuM0XiwEK7",
        "colab_type": "code",
        "colab": {}
      },
      "source": [
        "from sklearn.model_selection import train_test_split"
      ],
      "execution_count": 0,
      "outputs": []
    },
    {
      "cell_type": "code",
      "metadata": {
        "id": "w67HAJNUwEK_",
        "colab_type": "code",
        "colab": {}
      },
      "source": [
        "X_train, X_test, y_train, y_test = train_test_split(features,labels, random_state=13) "
      ],
      "execution_count": 0,
      "outputs": []
    },
    {
      "cell_type": "markdown",
      "metadata": {
        "id": "7HgSrENwwELG",
        "colab_type": "text"
      },
      "source": [
        "Verificamos los tamaños:"
      ]
    },
    {
      "cell_type": "code",
      "metadata": {
        "id": "kfiVXMAEwELI",
        "colab_type": "code",
        "colab": {},
        "outputId": "d8a9e462-ecf1-46ee-81a4-cbb123ee911b"
      },
      "source": [
        "X_train.shape"
      ],
      "execution_count": 0,
      "outputs": [
        {
          "output_type": "execute_result",
          "data": {
            "text/plain": [
              "(535, 3)"
            ]
          },
          "metadata": {
            "tags": []
          },
          "execution_count": 17
        }
      ]
    },
    {
      "cell_type": "code",
      "metadata": {
        "id": "p3YYZyoswELM",
        "colab_type": "code",
        "colab": {},
        "outputId": "6a7957fa-175e-4aef-d63b-7b5d75892b94"
      },
      "source": [
        "X_test.shape"
      ],
      "execution_count": 0,
      "outputs": [
        {
          "output_type": "execute_result",
          "data": {
            "text/plain": [
              "(179, 3)"
            ]
          },
          "metadata": {
            "tags": []
          },
          "execution_count": 18
        }
      ]
    },
    {
      "cell_type": "code",
      "metadata": {
        "id": "W2gmbSSuwELQ",
        "colab_type": "code",
        "colab": {},
        "outputId": "6366bfb3-bba5-4f9d-d90e-965c08c48204"
      },
      "source": [
        "y_train.shape"
      ],
      "execution_count": 0,
      "outputs": [
        {
          "output_type": "execute_result",
          "data": {
            "text/plain": [
              "(535,)"
            ]
          },
          "metadata": {
            "tags": []
          },
          "execution_count": 19
        }
      ]
    },
    {
      "cell_type": "code",
      "metadata": {
        "id": "WXrdDgGRwELV",
        "colab_type": "code",
        "colab": {},
        "outputId": "c5a6a1cf-4cb4-47f9-9f1b-a0f10d11ef86"
      },
      "source": [
        "y_test.shape"
      ],
      "execution_count": 0,
      "outputs": [
        {
          "output_type": "execute_result",
          "data": {
            "text/plain": [
              "(179,)"
            ]
          },
          "metadata": {
            "tags": []
          },
          "execution_count": 20
        }
      ]
    },
    {
      "cell_type": "markdown",
      "metadata": {
        "id": "JvUN_QD-wELZ",
        "colab_type": "text"
      },
      "source": [
        "Ahora contruiremos nuestro primer clasificador, usaremos un DT:"
      ]
    },
    {
      "cell_type": "code",
      "metadata": {
        "id": "vjjroH11wELa",
        "colab_type": "code",
        "colab": {}
      },
      "source": [
        "from sklearn.tree import DecisionTreeClassifier"
      ],
      "execution_count": 0,
      "outputs": []
    },
    {
      "cell_type": "markdown",
      "metadata": {
        "id": "M53ZtLoowELf",
        "colab_type": "text"
      },
      "source": [
        "Definimos el modelo con profundidad máxima de 3:"
      ]
    },
    {
      "cell_type": "code",
      "metadata": {
        "id": "oN8sO4h8wELg",
        "colab_type": "code",
        "colab": {}
      },
      "source": [
        "DecisionTreeModel = DecisionTreeClassifier(max_depth = 3)"
      ],
      "execution_count": 0,
      "outputs": []
    },
    {
      "cell_type": "markdown",
      "metadata": {
        "id": "NocJYODhwELj",
        "colab_type": "text"
      },
      "source": [
        "Llevamos a cabo el entrenamiento:"
      ]
    },
    {
      "cell_type": "code",
      "metadata": {
        "id": "2YbYUGeKwELn",
        "colab_type": "code",
        "colab": {},
        "outputId": "099f8eb6-05f3-46ca-ae57-b03c976ad302"
      },
      "source": [
        "DecisionTreeModel.fit(X_train,y_train)"
      ],
      "execution_count": 0,
      "outputs": [
        {
          "output_type": "execute_result",
          "data": {
            "text/plain": [
              "DecisionTreeClassifier(class_weight=None, criterion='gini', max_depth=3,\n",
              "                       max_features=None, max_leaf_nodes=None,\n",
              "                       min_impurity_decrease=0.0, min_impurity_split=None,\n",
              "                       min_samples_leaf=1, min_samples_split=2,\n",
              "                       min_weight_fraction_leaf=0.0, presort=False,\n",
              "                       random_state=None, splitter='best')"
            ]
          },
          "metadata": {
            "tags": []
          },
          "execution_count": 23
        }
      ]
    },
    {
      "cell_type": "markdown",
      "metadata": {
        "id": "bFd3qU1TwELr",
        "colab_type": "text"
      },
      "source": [
        "Importamos la métrica, en este caso \"accuracy\":"
      ]
    },
    {
      "cell_type": "code",
      "metadata": {
        "id": "HxCeR28WwELs",
        "colab_type": "code",
        "colab": {}
      },
      "source": [
        "from sklearn.metrics import accuracy_score"
      ],
      "execution_count": 0,
      "outputs": []
    },
    {
      "cell_type": "markdown",
      "metadata": {
        "id": "5kmFjA9FwELw",
        "colab_type": "text"
      },
      "source": [
        "Llevamos a cabo la predicción con valores de \"testing\":"
      ]
    },
    {
      "cell_type": "code",
      "metadata": {
        "id": "o1dy0jsXwELx",
        "colab_type": "code",
        "colab": {}
      },
      "source": [
        "y_predict = DecisionTreeModel.predict(X_test)"
      ],
      "execution_count": 0,
      "outputs": []
    },
    {
      "cell_type": "markdown",
      "metadata": {
        "id": "aqfpQvpRwEL2",
        "colab_type": "text"
      },
      "source": [
        "y ahora evaluamos nuestros resultados con los verdaderos, para ver que tan bueno fue nuestro modelo:"
      ]
    },
    {
      "cell_type": "code",
      "metadata": {
        "id": "4s0Uh8TvwEL4",
        "colab_type": "code",
        "colab": {},
        "outputId": "13e19da2-2c91-47e0-e930-e8190828b41a"
      },
      "source": [
        "dt1 = accuracy_score(y_test, y_predict)\n",
        "dt1"
      ],
      "execution_count": 0,
      "outputs": [
        {
          "output_type": "execute_result",
          "data": {
            "text/plain": [
              "0.7932960893854749"
            ]
          },
          "metadata": {
            "tags": []
          },
          "execution_count": 26
        }
      ]
    },
    {
      "cell_type": "markdown",
      "metadata": {
        "id": "OfixjCKGwEL8",
        "colab_type": "text"
      },
      "source": [
        "De la siguiente forma, visualizamos el DT:"
      ]
    },
    {
      "cell_type": "code",
      "metadata": {
        "id": "s2pj2myLwEL9",
        "colab_type": "code",
        "colab": {},
        "outputId": "eb254e2a-6d5d-4fd0-de03-5805af744ffa"
      },
      "source": [
        "from sklearn.tree import export_graphviz\n",
        "export_graphviz(DecisionTreeModel, out_file='simple_tree.dot', feature_names=features.columns,impurity=False,class_names=['Not survived','Survived'],filled=True)\n",
        "from subprocess import call\n",
        "call(['dot', '-T', 'png', 'simple_tree.dot', '-o', 'simple_tree.png'])"
      ],
      "execution_count": 0,
      "outputs": [
        {
          "output_type": "execute_result",
          "data": {
            "text/plain": [
              "0"
            ]
          },
          "metadata": {
            "tags": []
          },
          "execution_count": 27
        }
      ]
    },
    {
      "cell_type": "markdown",
      "metadata": {
        "id": "FjFfgRV5wEMC",
        "colab_type": "text"
      },
      "source": [
        "Desplegamos la imagen del árbol con las siguiente instrucción:\n",
        "\n",
        "    <img src='simple_tree.png' width = 1000px> "
      ]
    },
    {
      "cell_type": "markdown",
      "metadata": {
        "id": "XWTXIpRNwEMD",
        "colab_type": "text"
      },
      "source": [
        "<img src='simple_tree.png' width = 1000px>"
      ]
    },
    {
      "cell_type": "markdown",
      "metadata": {
        "id": "S3Ny9vrSwEME",
        "colab_type": "text"
      },
      "source": [
        "## Un modelo más completo, ahora con más features..."
      ]
    },
    {
      "cell_type": "code",
      "metadata": {
        "id": "qrj3tKlRwEMF",
        "colab_type": "code",
        "colab": {}
      },
      "source": [
        "features = data[['Pclass','Sex','Age','SibSp','Parch','Fare']]"
      ],
      "execution_count": 0,
      "outputs": []
    },
    {
      "cell_type": "code",
      "metadata": {
        "id": "-x6uYb6-wEMK",
        "colab_type": "code",
        "colab": {},
        "outputId": "0b622461-28da-45cd-a428-6d3fce12bdbe"
      },
      "source": [
        "features.head()"
      ],
      "execution_count": 0,
      "outputs": [
        {
          "output_type": "execute_result",
          "data": {
            "text/html": [
              "<div>\n",
              "<style scoped>\n",
              "    .dataframe tbody tr th:only-of-type {\n",
              "        vertical-align: middle;\n",
              "    }\n",
              "\n",
              "    .dataframe tbody tr th {\n",
              "        vertical-align: top;\n",
              "    }\n",
              "\n",
              "    .dataframe thead th {\n",
              "        text-align: right;\n",
              "    }\n",
              "</style>\n",
              "<table border=\"1\" class=\"dataframe\">\n",
              "  <thead>\n",
              "    <tr style=\"text-align: right;\">\n",
              "      <th></th>\n",
              "      <th>Pclass</th>\n",
              "      <th>Sex</th>\n",
              "      <th>Age</th>\n",
              "      <th>SibSp</th>\n",
              "      <th>Parch</th>\n",
              "      <th>Fare</th>\n",
              "    </tr>\n",
              "  </thead>\n",
              "  <tbody>\n",
              "    <tr>\n",
              "      <th>0</th>\n",
              "      <td>3</td>\n",
              "      <td>0</td>\n",
              "      <td>22.0</td>\n",
              "      <td>1</td>\n",
              "      <td>0</td>\n",
              "      <td>7.2500</td>\n",
              "    </tr>\n",
              "    <tr>\n",
              "      <th>1</th>\n",
              "      <td>1</td>\n",
              "      <td>1</td>\n",
              "      <td>38.0</td>\n",
              "      <td>1</td>\n",
              "      <td>0</td>\n",
              "      <td>71.2833</td>\n",
              "    </tr>\n",
              "    <tr>\n",
              "      <th>2</th>\n",
              "      <td>3</td>\n",
              "      <td>1</td>\n",
              "      <td>26.0</td>\n",
              "      <td>0</td>\n",
              "      <td>0</td>\n",
              "      <td>7.9250</td>\n",
              "    </tr>\n",
              "    <tr>\n",
              "      <th>3</th>\n",
              "      <td>1</td>\n",
              "      <td>1</td>\n",
              "      <td>35.0</td>\n",
              "      <td>1</td>\n",
              "      <td>0</td>\n",
              "      <td>53.1000</td>\n",
              "    </tr>\n",
              "    <tr>\n",
              "      <th>4</th>\n",
              "      <td>3</td>\n",
              "      <td>0</td>\n",
              "      <td>35.0</td>\n",
              "      <td>0</td>\n",
              "      <td>0</td>\n",
              "      <td>8.0500</td>\n",
              "    </tr>\n",
              "  </tbody>\n",
              "</table>\n",
              "</div>"
            ],
            "text/plain": [
              "   Pclass  Sex   Age  SibSp  Parch     Fare\n",
              "0       3    0  22.0      1      0   7.2500\n",
              "1       1    1  38.0      1      0  71.2833\n",
              "2       3    1  26.0      0      0   7.9250\n",
              "3       1    1  35.0      1      0  53.1000\n",
              "4       3    0  35.0      0      0   8.0500"
            ]
          },
          "metadata": {
            "tags": []
          },
          "execution_count": 29
        }
      ]
    },
    {
      "cell_type": "code",
      "metadata": {
        "id": "4tMRhQBvwEMP",
        "colab_type": "code",
        "colab": {}
      },
      "source": [
        "labels = data['Survived']"
      ],
      "execution_count": 0,
      "outputs": []
    },
    {
      "cell_type": "code",
      "metadata": {
        "id": "oPiP5roNwEMR",
        "colab_type": "code",
        "colab": {}
      },
      "source": [
        "X_train, X_test, y_train, y_test = train_test_split(features,labels, random_state=13) "
      ],
      "execution_count": 0,
      "outputs": []
    },
    {
      "cell_type": "code",
      "metadata": {
        "id": "u8YUyf2mwEMV",
        "colab_type": "code",
        "colab": {},
        "outputId": "9bfd65ee-a652-44b0-a005-dc7f4208d06a"
      },
      "source": [
        "DecisionTreeModel.fit(X_train,y_train)"
      ],
      "execution_count": 0,
      "outputs": [
        {
          "output_type": "execute_result",
          "data": {
            "text/plain": [
              "DecisionTreeClassifier(class_weight=None, criterion='gini', max_depth=3,\n",
              "                       max_features=None, max_leaf_nodes=None,\n",
              "                       min_impurity_decrease=0.0, min_impurity_split=None,\n",
              "                       min_samples_leaf=1, min_samples_split=2,\n",
              "                       min_weight_fraction_leaf=0.0, presort=False,\n",
              "                       random_state=None, splitter='best')"
            ]
          },
          "metadata": {
            "tags": []
          },
          "execution_count": 32
        }
      ]
    },
    {
      "cell_type": "code",
      "metadata": {
        "id": "8fcW4d64wEMd",
        "colab_type": "code",
        "colab": {}
      },
      "source": [
        "y_predict = DecisionTreeModel.predict(X_test)"
      ],
      "execution_count": 0,
      "outputs": []
    },
    {
      "cell_type": "code",
      "metadata": {
        "id": "jd7j_81bwEMl",
        "colab_type": "code",
        "colab": {},
        "outputId": "9c626c4a-ab85-43e6-ba9f-93a56c04f3fe"
      },
      "source": [
        "dt2 = accuracy_score(y_test, y_predict)\n",
        "dt2"
      ],
      "execution_count": 0,
      "outputs": [
        {
          "output_type": "execute_result",
          "data": {
            "text/plain": [
              "0.8044692737430168"
            ]
          },
          "metadata": {
            "tags": []
          },
          "execution_count": 34
        }
      ]
    },
    {
      "cell_type": "code",
      "metadata": {
        "id": "U1O8ZE7ZwEMs",
        "colab_type": "code",
        "colab": {},
        "outputId": "c52bca22-86f6-47d5-fe57-2556be10fcba"
      },
      "source": [
        "from sklearn.tree import export_graphviz\n",
        "export_graphviz(DecisionTreeModel, out_file='simple_tree2.dot', feature_names=features.columns,impurity=False,class_names=['Not survived','Survived'],filled=True)\n",
        "from subprocess import call\n",
        "call(['dot', '-T', 'png', 'simple_tree2.dot', '-o', 'simple_tree2.png'])"
      ],
      "execution_count": 0,
      "outputs": [
        {
          "output_type": "execute_result",
          "data": {
            "text/plain": [
              "0"
            ]
          },
          "metadata": {
            "tags": []
          },
          "execution_count": 35
        }
      ]
    },
    {
      "cell_type": "markdown",
      "metadata": {
        "id": "Nt-dJzTBwEMv",
        "colab_type": "text"
      },
      "source": [
        "<img src='simple_tree2.png' width = 1000px> "
      ]
    },
    {
      "cell_type": "markdown",
      "metadata": {
        "id": "hEYs9kkwwEMy",
        "colab_type": "text"
      },
      "source": [
        "## ...y si variamos la profundidad del modelo anterior? "
      ]
    },
    {
      "cell_type": "code",
      "metadata": {
        "id": "gjDQ1OH7wEMz",
        "colab_type": "code",
        "colab": {},
        "outputId": "99ee2cce-35b2-464d-8217-b2e8f294c6c4"
      },
      "source": [
        "DecisionTreeModel = DecisionTreeClassifier(max_depth = 5)\n",
        "DecisionTreeModel.fit(X_train,y_train)\n",
        "y_predict = DecisionTreeModel.predict(X_test)\n",
        "dt3 = accuracy_score(y_test, y_predict)\n",
        "dt3"
      ],
      "execution_count": 0,
      "outputs": [
        {
          "output_type": "execute_result",
          "data": {
            "text/plain": [
              "0.7988826815642458"
            ]
          },
          "metadata": {
            "tags": []
          },
          "execution_count": 36
        }
      ]
    },
    {
      "cell_type": "markdown",
      "metadata": {
        "id": "rhmD9Qo_wEM3",
        "colab_type": "text"
      },
      "source": [
        "## Pareciera no ser una buena estrategia! Que tal otro algoritmo?"
      ]
    },
    {
      "cell_type": "markdown",
      "metadata": {
        "id": "RCJ-4U3FwEM4",
        "colab_type": "text"
      },
      "source": [
        "Probamos con RF:"
      ]
    },
    {
      "cell_type": "code",
      "metadata": {
        "id": "q_3Jcu4xwEM7",
        "colab_type": "code",
        "colab": {}
      },
      "source": [
        "from sklearn.ensemble import RandomForestClassifier"
      ],
      "execution_count": 0,
      "outputs": []
    },
    {
      "cell_type": "code",
      "metadata": {
        "id": "A-cwU07ewENC",
        "colab_type": "code",
        "colab": {}
      },
      "source": [
        "RandomForestModel = RandomForestClassifier(min_samples_leaf=3,min_samples_split=20,n_estimators=500, max_depth= None, random_state=10)"
      ],
      "execution_count": 0,
      "outputs": []
    },
    {
      "cell_type": "code",
      "metadata": {
        "id": "790h0QtlwENG",
        "colab_type": "code",
        "colab": {},
        "outputId": "aa3c169e-cdcb-4674-aa72-c60e63212b87"
      },
      "source": [
        "RandomForestModel.fit(X_train, y_train)"
      ],
      "execution_count": 0,
      "outputs": [
        {
          "output_type": "execute_result",
          "data": {
            "text/plain": [
              "RandomForestClassifier(bootstrap=True, class_weight=None, criterion='gini',\n",
              "                       max_depth=None, max_features='auto', max_leaf_nodes=None,\n",
              "                       min_impurity_decrease=0.0, min_impurity_split=None,\n",
              "                       min_samples_leaf=3, min_samples_split=20,\n",
              "                       min_weight_fraction_leaf=0.0, n_estimators=500,\n",
              "                       n_jobs=None, oob_score=False, random_state=10, verbose=0,\n",
              "                       warm_start=False)"
            ]
          },
          "metadata": {
            "tags": []
          },
          "execution_count": 39
        }
      ]
    },
    {
      "cell_type": "code",
      "metadata": {
        "id": "DEO_skgBwENM",
        "colab_type": "code",
        "colab": {}
      },
      "source": [
        "y_predict = RandomForestModel.predict(X_test)"
      ],
      "execution_count": 0,
      "outputs": []
    },
    {
      "cell_type": "code",
      "metadata": {
        "id": "XMuEflKfwENR",
        "colab_type": "code",
        "colab": {},
        "outputId": "3af6d3e1-43b6-4c76-d6c3-312dc562c7fb"
      },
      "source": [
        "rf = accuracy_score(y_test,y_predict)\n",
        "rf"
      ],
      "execution_count": 0,
      "outputs": [
        {
          "output_type": "execute_result",
          "data": {
            "text/plain": [
              "0.8100558659217877"
            ]
          },
          "metadata": {
            "tags": []
          },
          "execution_count": 42
        }
      ]
    },
    {
      "cell_type": "code",
      "metadata": {
        "id": "48FB2_JZwENX",
        "colab_type": "code",
        "colab": {},
        "outputId": "7c5b82b1-b40e-49f4-853a-eaaea86a8950"
      },
      "source": [
        "from sklearn.tree import export_graphviz\n",
        "estimator = RandomForestModel.estimators_[0]\n",
        "export_graphviz(estimator, out_file='complete_tree.dot', feature_names=features.columns,impurity=False,class_names=['Not survived','Survived'],filled=True)\n",
        "from subprocess import call\n",
        "call(['dot', '-T', 'png', 'complete_tree.dot', '-o', 'complete_tree.png'])"
      ],
      "execution_count": 0,
      "outputs": [
        {
          "output_type": "execute_result",
          "data": {
            "text/plain": [
              "0"
            ]
          },
          "metadata": {
            "tags": []
          },
          "execution_count": 43
        }
      ]
    },
    {
      "cell_type": "markdown",
      "metadata": {
        "id": "9Rwd6W75wENf",
        "colab_type": "text"
      },
      "source": [
        "<img src='complete_tree.png' width = 1000px>"
      ]
    },
    {
      "cell_type": "code",
      "metadata": {
        "id": "3dn49MsYwENh",
        "colab_type": "code",
        "colab": {}
      },
      "source": [
        "importances = pd.DataFrame({'feature' : X_train.columns, 'importance':RandomForestModel.feature_importances_})"
      ],
      "execution_count": 0,
      "outputs": []
    },
    {
      "cell_type": "code",
      "metadata": {
        "id": "0tCv1N9XwENl",
        "colab_type": "code",
        "colab": {}
      },
      "source": [
        "importances = importances.sort_values('importance', ascending = False).set_index('feature')"
      ],
      "execution_count": 0,
      "outputs": []
    },
    {
      "cell_type": "code",
      "metadata": {
        "id": "WOv3-_wvwENo",
        "colab_type": "code",
        "colab": {},
        "outputId": "4d9b4a85-11d3-4347-b0ee-b036323d446e"
      },
      "source": [
        "importances.head(9)"
      ],
      "execution_count": 0,
      "outputs": [
        {
          "output_type": "execute_result",
          "data": {
            "text/html": [
              "<div>\n",
              "<style scoped>\n",
              "    .dataframe tbody tr th:only-of-type {\n",
              "        vertical-align: middle;\n",
              "    }\n",
              "\n",
              "    .dataframe tbody tr th {\n",
              "        vertical-align: top;\n",
              "    }\n",
              "\n",
              "    .dataframe thead th {\n",
              "        text-align: right;\n",
              "    }\n",
              "</style>\n",
              "<table border=\"1\" class=\"dataframe\">\n",
              "  <thead>\n",
              "    <tr style=\"text-align: right;\">\n",
              "      <th></th>\n",
              "      <th>importance</th>\n",
              "    </tr>\n",
              "    <tr>\n",
              "      <th>feature</th>\n",
              "      <th></th>\n",
              "    </tr>\n",
              "  </thead>\n",
              "  <tbody>\n",
              "    <tr>\n",
              "      <th>Sex</th>\n",
              "      <td>0.390860</td>\n",
              "    </tr>\n",
              "    <tr>\n",
              "      <th>Fare</th>\n",
              "      <td>0.203642</td>\n",
              "    </tr>\n",
              "    <tr>\n",
              "      <th>Pclass</th>\n",
              "      <td>0.170789</td>\n",
              "    </tr>\n",
              "    <tr>\n",
              "      <th>Age</th>\n",
              "      <td>0.167110</td>\n",
              "    </tr>\n",
              "    <tr>\n",
              "      <th>SibSp</th>\n",
              "      <td>0.038629</td>\n",
              "    </tr>\n",
              "    <tr>\n",
              "      <th>Parch</th>\n",
              "      <td>0.028971</td>\n",
              "    </tr>\n",
              "  </tbody>\n",
              "</table>\n",
              "</div>"
            ],
            "text/plain": [
              "         importance\n",
              "feature            \n",
              "Sex        0.390860\n",
              "Fare       0.203642\n",
              "Pclass     0.170789\n",
              "Age        0.167110\n",
              "SibSp      0.038629\n",
              "Parch      0.028971"
            ]
          },
          "metadata": {
            "tags": []
          },
          "execution_count": 46
        }
      ]
    },
    {
      "cell_type": "code",
      "metadata": {
        "id": "gveNFLUDwENs",
        "colab_type": "code",
        "colab": {}
      },
      "source": [
        "from matplotlib import pyplot as plt\n",
        "plt.style.use('ggplot')"
      ],
      "execution_count": 0,
      "outputs": []
    },
    {
      "cell_type": "code",
      "metadata": {
        "id": "iUAxJJu2wENv",
        "colab_type": "code",
        "colab": {},
        "outputId": "9b01b221-501b-466c-e236-976fa32c7c71"
      },
      "source": [
        "importances.plot.bar()"
      ],
      "execution_count": 0,
      "outputs": [
        {
          "output_type": "execute_result",
          "data": {
            "text/plain": [
              "<matplotlib.axes._subplots.AxesSubplot at 0x117346ef0>"
            ]
          },
          "metadata": {
            "tags": []
          },
          "execution_count": 48
        },
        {
          "output_type": "display_data",
          "data": {
            "image/png": "[encoded data removed]",
            "text/plain": [
              "<Figure size 432x288 with 1 Axes>"
            ]
          },
          "metadata": {
            "tags": []
          }
        }
      ]
    },
    {
      "cell_type": "markdown",
      "metadata": {
        "id": "UAh7_J6xwENx",
        "colab_type": "text"
      },
      "source": [
        "Siempre es bueno, crear una tabla con los resultados y a partir de ella hacer los respectivos análisis y conclusiones:"
      ]
    },
    {
      "cell_type": "markdown",
      "metadata": {
        "id": "xpOLnBmGwENy",
        "colab_type": "text"
      },
      "source": [
        "Método | Features | Profundidad | Resultado\n",
        "------------ | ------------- | ------------- | ------------- \n",
        "DT | 3 | 3 | 79.32%\n",
        "DT | 5 | 3 | 80.44% \n",
        "DT | 5 | 5 | 79.88%\n",
        "RF | 5 | NA | 81.00%\n"
      ]
    }
  ]
}